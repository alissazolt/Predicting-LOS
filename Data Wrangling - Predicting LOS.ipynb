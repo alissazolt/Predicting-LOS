{
 "cells": [
  {
   "cell_type": "markdown",
   "id": "042af8a6",
   "metadata": {},
   "source": [
    "# Data Wrangling"
   ]
  },
  {
   "cell_type": "markdown",
   "id": "fd9d7bd0",
   "metadata": {},
   "source": [
    "## Introduction"
   ]
  },
  {
   "cell_type": "markdown",
   "id": "4a2f5545",
   "metadata": {},
   "source": [
    "The present goal is to collect data from the MIMIC-IV dataset, organize it, and make sure it is well defined. Some data cleaning will be done at this stage."
   ]
  },
  {
   "cell_type": "markdown",
   "id": "0e81dd4a",
   "metadata": {},
   "source": [
    "### Recap of Data Science Problem"
   ]
  },
  {
   "cell_type": "markdown",
   "id": "5bb9bbc2",
   "metadata": {},
   "source": [
    "The hospital wants to identify patients with longer and shorter lengths of stay to allocate resources more effectively. Target population will be identified and actionable steps will be measured to see impact on overall length of stay."
   ]
  },
  {
   "cell_type": "markdown",
   "id": "75c8bc18",
   "metadata": {},
   "source": [
    "The hospital is experiencing an unprecedented level of demand for beds. As such, they are experiencing an over-crowding issue. Presently, they would like to explore factors that influence length of stay to later explore the strategic issue that is reducing length of stay. What is currently needed is a diagnostic tool to identify the factors influencing length of stay. They want to provide exactly the care needed by an individual the moment they need it. But the moment they don’t need it, resource utilization plummets. Complaints during this transition period edge up consuming clinical attention that could be better spent elsewhere. In addition, the risks of hospital-acquired infections, falls and other adverse reactions also increase during this period. The most pressing financial issue is patient throughput. The faster you can get a patient out of their high-acuity bed and onto the next level of care, the better, as that means the next patient can take their place more quickly. Getting patients in and out of the hospital efficiently is a way to keep your revenue model churning. Having a predictive model of length of stay will help clinical staff triage more efficiently and form a consistent care process to get patients to a more appropriate acuity level quickly keeping bed turnover as high as possible. "
   ]
  },
  {
   "cell_type": "markdown",
   "id": "47a07846",
   "metadata": {},
   "source": [
    "We wish to establish a standard measurable to predict length of stay from which to manipulate to see a decrease in length of stay. Some potential manipulations include but are not limited to: "
   ]
  },
  {
   "cell_type": "markdown",
   "id": "8532164b",
   "metadata": {},
   "source": [
    "possible manipulations to be determined."
   ]
  },
  {
   "cell_type": "markdown",
   "id": "19770372",
   "metadata": {},
   "source": [
    "The scope of the solution space is limited to changes that will support shorter length of stay. Constraints include missing data regarding workflows presently in place."
   ]
  },
  {
   "cell_type": "code",
   "execution_count": 96,
   "id": "026581fa",
   "metadata": {},
   "outputs": [],
   "source": [
    "import ipywidgets as widgets\n",
    "import sys\n",
    "from pathlib import Path\n",
    "import os\n",
    "import importlib\n",
    "\n",
    "\n",
    "module_path='preprocessing/day_intervals_preproc'\n",
    "if module_path not in sys.path:\n",
    "    sys.path.append(module_path)\n",
    "\n",
    "module_path='utils'\n",
    "if module_path not in sys.path:\n",
    "    sys.path.append(module_path)\n",
    "    \n",
    "module_path='preprocessing/hosp_module_preproc'\n",
    "if module_path not in sys.path:\n",
    "    sys.path.append(module_path)\n",
    "    \n",
    "module_path='model'\n",
    "if module_path not in sys.path:\n",
    "    sys.path.append(module_path)\n",
    "#print(sys.path)\n",
    "root_dir = os.path.dirname(os.path.abspath('UserInterface.ipynb'))\n",
    "import day_intervals_cohort\n",
    "from day_intervals_cohort import *\n",
    "\n",
    "import day_intervals_cohort_v2\n",
    "from day_intervals_cohort_v2 import *\n",
    "\n",
    "import data_generation_icu\n",
    "\n",
    "import data_generation\n",
    "import evaluation\n",
    "\n",
    "import feature_selection_hosp\n",
    "from feature_selection_hosp import *\n",
    "\n",
    "# import train\n",
    "# from train import *\n",
    "\n",
    "\n",
    "import ml_models\n",
    "from ml_models import *\n",
    "\n",
    "import dl_train\n",
    "from dl_train import *\n",
    "\n",
    "import tokenization\n",
    "from tokenization import *\n",
    "\n",
    "\n",
    "import behrt_train\n",
    "from behrt_train import *\n",
    "\n",
    "import feature_selection_icu\n",
    "from feature_selection_icu import *\n",
    "import fairness\n",
    "import callibrate_output"
   ]
  },
  {
   "cell_type": "markdown",
   "id": "c3799f33",
   "metadata": {},
   "source": [
    "## To predict length of stay, the admissions, patients, icustays, and diagnosis_ICD tables."
   ]
  },
  {
   "cell_type": "markdown",
   "id": "df023159",
   "metadata": {},
   "source": [
    "### MIMIC-IV hosp and icu data:"
   ]
  },
  {
   "cell_type": "code",
   "execution_count": 12,
   "id": "9ef06d05",
   "metadata": {
    "scrolled": true
   },
   "outputs": [
    {
     "name": "stdout",
     "output_type": "stream",
     "text": [
      "Files in '/Users/alissazoltowski/Documents/Springboard/Projects/MIMIC-IV-Data-Pipeline': ['.DS_Store', 'requirements.txt', 'images', 'Untitled.ipynb', 'Data Wrangling.ipynb', 'mimic4_preprocess_util.py', 'mainPipeline.ipynb', 'utils', 'README.md', 'mimiciv', 'saved_models', 'notes', '.gitignore', 'model', '.ipynb_checkpoints', 'preprocessing', '.git', 'data', 'preprocess_outcomes.py']\n"
     ]
    }
   ],
   "source": [
    "import os\n",
    "\n",
    "cwd = os.getcwd()  # Get the current working directory (cwd)\n",
    "files = os.listdir(cwd)  # Get all the files in that directory\n",
    "print(\"Files in %r: %s\" % (cwd, files))"
   ]
  },
  {
   "cell_type": "markdown",
   "id": "f4ecdf73",
   "metadata": {},
   "source": [
    "#### Admissions table"
   ]
  },
  {
   "cell_type": "markdown",
   "id": "637b8aa8",
   "metadata": {},
   "source": [
    "The admissions table gives information regarding a patient’s admission to the hospital. Since each unique hospital visit for a patient is assigned a unique hadm_id, the admissions table can be considered as a definition table for hadm_id. Information available includes timing information for admission and discharge, demographic information, the source of the admission, and so on.<br> \n",
    "\n",
    "Links to:<br> patients on subject_id\n",
    "<br>\n",
    "\n",
    "**interested in the subject id (patient), hadm id (admission event), admission type, admit time and discharge time.**"
   ]
  },
  {
   "cell_type": "code",
   "execution_count": 13,
   "id": "f6a5045d",
   "metadata": {},
   "outputs": [],
   "source": [
    "admissions = pd.read_csv('mimiciv/2.0/hosp/admissions.csv.gz')"
   ]
  },
  {
   "cell_type": "code",
   "execution_count": 15,
   "id": "dcbe7390",
   "metadata": {
    "scrolled": false
   },
   "outputs": [
    {
     "data": {
      "text/html": [
       "<div>\n",
       "<style scoped>\n",
       "    .dataframe tbody tr th:only-of-type {\n",
       "        vertical-align: middle;\n",
       "    }\n",
       "\n",
       "    .dataframe tbody tr th {\n",
       "        vertical-align: top;\n",
       "    }\n",
       "\n",
       "    .dataframe thead th {\n",
       "        text-align: right;\n",
       "    }\n",
       "</style>\n",
       "<table border=\"1\" class=\"dataframe\">\n",
       "  <thead>\n",
       "    <tr style=\"text-align: right;\">\n",
       "      <th></th>\n",
       "      <th>subject_id</th>\n",
       "      <th>hadm_id</th>\n",
       "      <th>admittime</th>\n",
       "      <th>dischtime</th>\n",
       "      <th>deathtime</th>\n",
       "      <th>admission_type</th>\n",
       "      <th>admit_provider_id</th>\n",
       "      <th>admission_location</th>\n",
       "      <th>discharge_location</th>\n",
       "      <th>insurance</th>\n",
       "      <th>language</th>\n",
       "      <th>marital_status</th>\n",
       "      <th>race</th>\n",
       "      <th>edregtime</th>\n",
       "      <th>edouttime</th>\n",
       "      <th>hospital_expire_flag</th>\n",
       "    </tr>\n",
       "  </thead>\n",
       "  <tbody>\n",
       "    <tr>\n",
       "      <th>0</th>\n",
       "      <td>10000032</td>\n",
       "      <td>22595853</td>\n",
       "      <td>2180-05-06 22:23:00</td>\n",
       "      <td>2180-05-07 17:15:00</td>\n",
       "      <td>NaN</td>\n",
       "      <td>URGENT</td>\n",
       "      <td>P874LG</td>\n",
       "      <td>TRANSFER FROM HOSPITAL</td>\n",
       "      <td>HOME</td>\n",
       "      <td>Other</td>\n",
       "      <td>ENGLISH</td>\n",
       "      <td>WIDOWED</td>\n",
       "      <td>WHITE</td>\n",
       "      <td>2180-05-06 19:17:00</td>\n",
       "      <td>2180-05-06 23:30:00</td>\n",
       "      <td>0</td>\n",
       "    </tr>\n",
       "    <tr>\n",
       "      <th>1</th>\n",
       "      <td>10000032</td>\n",
       "      <td>22841357</td>\n",
       "      <td>2180-06-26 18:27:00</td>\n",
       "      <td>2180-06-27 18:49:00</td>\n",
       "      <td>NaN</td>\n",
       "      <td>EW EMER.</td>\n",
       "      <td>P09Q6Y</td>\n",
       "      <td>EMERGENCY ROOM</td>\n",
       "      <td>HOME</td>\n",
       "      <td>Medicaid</td>\n",
       "      <td>ENGLISH</td>\n",
       "      <td>WIDOWED</td>\n",
       "      <td>WHITE</td>\n",
       "      <td>2180-06-26 15:54:00</td>\n",
       "      <td>2180-06-26 21:31:00</td>\n",
       "      <td>0</td>\n",
       "    </tr>\n",
       "    <tr>\n",
       "      <th>2</th>\n",
       "      <td>10000032</td>\n",
       "      <td>25742920</td>\n",
       "      <td>2180-08-05 23:44:00</td>\n",
       "      <td>2180-08-07 17:50:00</td>\n",
       "      <td>NaN</td>\n",
       "      <td>EW EMER.</td>\n",
       "      <td>P60CC5</td>\n",
       "      <td>EMERGENCY ROOM</td>\n",
       "      <td>HOSPICE</td>\n",
       "      <td>Medicaid</td>\n",
       "      <td>ENGLISH</td>\n",
       "      <td>WIDOWED</td>\n",
       "      <td>WHITE</td>\n",
       "      <td>2180-08-05 20:58:00</td>\n",
       "      <td>2180-08-06 01:44:00</td>\n",
       "      <td>0</td>\n",
       "    </tr>\n",
       "    <tr>\n",
       "      <th>3</th>\n",
       "      <td>10000032</td>\n",
       "      <td>29079034</td>\n",
       "      <td>2180-07-23 12:35:00</td>\n",
       "      <td>2180-07-25 17:55:00</td>\n",
       "      <td>NaN</td>\n",
       "      <td>EW EMER.</td>\n",
       "      <td>P30KEH</td>\n",
       "      <td>EMERGENCY ROOM</td>\n",
       "      <td>HOME</td>\n",
       "      <td>Medicaid</td>\n",
       "      <td>ENGLISH</td>\n",
       "      <td>WIDOWED</td>\n",
       "      <td>WHITE</td>\n",
       "      <td>2180-07-23 05:54:00</td>\n",
       "      <td>2180-07-23 14:00:00</td>\n",
       "      <td>0</td>\n",
       "    </tr>\n",
       "    <tr>\n",
       "      <th>4</th>\n",
       "      <td>10000068</td>\n",
       "      <td>25022803</td>\n",
       "      <td>2160-03-03 23:16:00</td>\n",
       "      <td>2160-03-04 06:26:00</td>\n",
       "      <td>NaN</td>\n",
       "      <td>EU OBSERVATION</td>\n",
       "      <td>P51VDL</td>\n",
       "      <td>EMERGENCY ROOM</td>\n",
       "      <td>NaN</td>\n",
       "      <td>Other</td>\n",
       "      <td>ENGLISH</td>\n",
       "      <td>SINGLE</td>\n",
       "      <td>WHITE</td>\n",
       "      <td>2160-03-03 21:55:00</td>\n",
       "      <td>2160-03-04 06:26:00</td>\n",
       "      <td>0</td>\n",
       "    </tr>\n",
       "  </tbody>\n",
       "</table>\n",
       "</div>"
      ],
      "text/plain": [
       "   subject_id   hadm_id            admittime            dischtime deathtime  \\\n",
       "0    10000032  22595853  2180-05-06 22:23:00  2180-05-07 17:15:00       NaN   \n",
       "1    10000032  22841357  2180-06-26 18:27:00  2180-06-27 18:49:00       NaN   \n",
       "2    10000032  25742920  2180-08-05 23:44:00  2180-08-07 17:50:00       NaN   \n",
       "3    10000032  29079034  2180-07-23 12:35:00  2180-07-25 17:55:00       NaN   \n",
       "4    10000068  25022803  2160-03-03 23:16:00  2160-03-04 06:26:00       NaN   \n",
       "\n",
       "   admission_type admit_provider_id      admission_location  \\\n",
       "0          URGENT            P874LG  TRANSFER FROM HOSPITAL   \n",
       "1        EW EMER.            P09Q6Y          EMERGENCY ROOM   \n",
       "2        EW EMER.            P60CC5          EMERGENCY ROOM   \n",
       "3        EW EMER.            P30KEH          EMERGENCY ROOM   \n",
       "4  EU OBSERVATION            P51VDL          EMERGENCY ROOM   \n",
       "\n",
       "  discharge_location insurance language marital_status   race  \\\n",
       "0               HOME     Other  ENGLISH        WIDOWED  WHITE   \n",
       "1               HOME  Medicaid  ENGLISH        WIDOWED  WHITE   \n",
       "2            HOSPICE  Medicaid  ENGLISH        WIDOWED  WHITE   \n",
       "3               HOME  Medicaid  ENGLISH        WIDOWED  WHITE   \n",
       "4                NaN     Other  ENGLISH         SINGLE  WHITE   \n",
       "\n",
       "             edregtime            edouttime  hospital_expire_flag  \n",
       "0  2180-05-06 19:17:00  2180-05-06 23:30:00                     0  \n",
       "1  2180-06-26 15:54:00  2180-06-26 21:31:00                     0  \n",
       "2  2180-08-05 20:58:00  2180-08-06 01:44:00                     0  \n",
       "3  2180-07-23 05:54:00  2180-07-23 14:00:00                     0  \n",
       "4  2160-03-03 21:55:00  2160-03-04 06:26:00                     0  "
      ]
     },
     "execution_count": 15,
     "metadata": {},
     "output_type": "execute_result"
    }
   ],
   "source": [
    "admissions.head()"
   ]
  },
  {
   "cell_type": "code",
   "execution_count": 28,
   "id": "745924dd",
   "metadata": {},
   "outputs": [
    {
     "name": "stdout",
     "output_type": "stream",
     "text": [
      "Dataset has 431231 number of unique admission events.\n",
      "Dataset has 180733 number of unique patients.\n"
     ]
    }
   ],
   "source": [
    "# Unique admission events\n",
    "print('Dataset has {} number of unique admission events.'.format(admissions['hadm_id'].nunique()))\n",
    "\n",
    "# Unique patients\n",
    "print('Dataset has {} number of unique patients.'.format(admissions['subject_id'].nunique()))"
   ]
  },
  {
   "cell_type": "markdown",
   "id": "c90cd23b",
   "metadata": {},
   "source": [
    "**This means we have quite a few repeat visitors. We should merge on admission events (hadm_id) later on to avoid analysis on the same patient encounter.**"
   ]
  },
  {
   "cell_type": "code",
   "execution_count": 98,
   "id": "20e74541",
   "metadata": {},
   "outputs": [
    {
     "data": {
      "text/plain": [
       "False"
      ]
     },
     "execution_count": 98,
     "metadata": {},
     "output_type": "execute_result"
    }
   ],
   "source": [
    "admissions['hadm_id'].duplicated().any()"
   ]
  },
  {
   "cell_type": "markdown",
   "id": "77e46484",
   "metadata": {},
   "source": [
    "##### Number of missing values by column"
   ]
  },
  {
   "cell_type": "code",
   "execution_count": 37,
   "id": "6215d071",
   "metadata": {},
   "outputs": [
    {
     "data": {
      "text/html": [
       "<div>\n",
       "<style scoped>\n",
       "    .dataframe tbody tr th:only-of-type {\n",
       "        vertical-align: middle;\n",
       "    }\n",
       "\n",
       "    .dataframe tbody tr th {\n",
       "        vertical-align: top;\n",
       "    }\n",
       "\n",
       "    .dataframe thead th {\n",
       "        text-align: right;\n",
       "    }\n",
       "</style>\n",
       "<table border=\"1\" class=\"dataframe\">\n",
       "  <thead>\n",
       "    <tr style=\"text-align: right;\">\n",
       "      <th></th>\n",
       "      <th>count</th>\n",
       "      <th>%</th>\n",
       "    </tr>\n",
       "  </thead>\n",
       "  <tbody>\n",
       "    <tr>\n",
       "      <th>deathtime</th>\n",
       "      <td>422633</td>\n",
       "      <td>98.006173</td>\n",
       "    </tr>\n",
       "    <tr>\n",
       "      <th>edregtime</th>\n",
       "      <td>131949</td>\n",
       "      <td>30.598218</td>\n",
       "    </tr>\n",
       "    <tr>\n",
       "      <th>edouttime</th>\n",
       "      <td>131949</td>\n",
       "      <td>30.598218</td>\n",
       "    </tr>\n",
       "    <tr>\n",
       "      <th>discharge_location</th>\n",
       "      <td>119155</td>\n",
       "      <td>27.631362</td>\n",
       "    </tr>\n",
       "    <tr>\n",
       "      <th>marital_status</th>\n",
       "      <td>9233</td>\n",
       "      <td>2.141080</td>\n",
       "    </tr>\n",
       "    <tr>\n",
       "      <th>admit_provider_id</th>\n",
       "      <td>4</td>\n",
       "      <td>0.000928</td>\n",
       "    </tr>\n",
       "    <tr>\n",
       "      <th>subject_id</th>\n",
       "      <td>0</td>\n",
       "      <td>0.000000</td>\n",
       "    </tr>\n",
       "    <tr>\n",
       "      <th>hadm_id</th>\n",
       "      <td>0</td>\n",
       "      <td>0.000000</td>\n",
       "    </tr>\n",
       "    <tr>\n",
       "      <th>admittime</th>\n",
       "      <td>0</td>\n",
       "      <td>0.000000</td>\n",
       "    </tr>\n",
       "    <tr>\n",
       "      <th>dischtime</th>\n",
       "      <td>0</td>\n",
       "      <td>0.000000</td>\n",
       "    </tr>\n",
       "    <tr>\n",
       "      <th>admission_type</th>\n",
       "      <td>0</td>\n",
       "      <td>0.000000</td>\n",
       "    </tr>\n",
       "    <tr>\n",
       "      <th>admission_location</th>\n",
       "      <td>0</td>\n",
       "      <td>0.000000</td>\n",
       "    </tr>\n",
       "    <tr>\n",
       "      <th>insurance</th>\n",
       "      <td>0</td>\n",
       "      <td>0.000000</td>\n",
       "    </tr>\n",
       "    <tr>\n",
       "      <th>language</th>\n",
       "      <td>0</td>\n",
       "      <td>0.000000</td>\n",
       "    </tr>\n",
       "    <tr>\n",
       "      <th>race</th>\n",
       "      <td>0</td>\n",
       "      <td>0.000000</td>\n",
       "    </tr>\n",
       "    <tr>\n",
       "      <th>hospital_expire_flag</th>\n",
       "      <td>0</td>\n",
       "      <td>0.000000</td>\n",
       "    </tr>\n",
       "  </tbody>\n",
       "</table>\n",
       "</div>"
      ],
      "text/plain": [
       "                       count          %\n",
       "deathtime             422633  98.006173\n",
       "edregtime             131949  30.598218\n",
       "edouttime             131949  30.598218\n",
       "discharge_location    119155  27.631362\n",
       "marital_status          9233   2.141080\n",
       "admit_provider_id          4   0.000928\n",
       "subject_id                 0   0.000000\n",
       "hadm_id                    0   0.000000\n",
       "admittime                  0   0.000000\n",
       "dischtime                  0   0.000000\n",
       "admission_type             0   0.000000\n",
       "admission_location         0   0.000000\n",
       "insurance                  0   0.000000\n",
       "language                   0   0.000000\n",
       "race                       0   0.000000\n",
       "hospital_expire_flag       0   0.000000"
      ]
     },
     "execution_count": 37,
     "metadata": {},
     "output_type": "execute_result"
    }
   ],
   "source": [
    "missing = pd.concat([admissions.isnull().sum(), 100 * admissions.isnull().mean()], axis=1)\n",
    "missing.columns=['count', '%']\n",
    "missing.sort_values(by='count', ascending=False)"
   ]
  },
  {
   "cell_type": "markdown",
   "id": "402b4d61",
   "metadata": {},
   "source": [
    "There are missing values in death time, edregtime, edouttime, discharge loctaion, and marital status columns."
   ]
  },
  {
   "cell_type": "code",
   "execution_count": 72,
   "id": "3d9a6dee",
   "metadata": {},
   "outputs": [
    {
     "name": "stdout",
     "output_type": "stream",
     "text": [
      "<class 'pandas.core.frame.DataFrame'>\n",
      "Int64Index: 431089 entries, 0 to 431230\n",
      "Data columns (total 19 columns):\n",
      " #   Column                Non-Null Count   Dtype         \n",
      "---  ------                --------------   -----         \n",
      " 0   subject_id            431089 non-null  int64         \n",
      " 1   hadm_id               431089 non-null  int64         \n",
      " 2   admittime             431089 non-null  object        \n",
      " 3   dischtime             431089 non-null  object        \n",
      " 4   deathtime             8526 non-null    object        \n",
      " 5   admission_type        431089 non-null  object        \n",
      " 6   admit_provider_id     431085 non-null  object        \n",
      " 7   admission_location    431089 non-null  object        \n",
      " 8   discharge_location    312000 non-null  object        \n",
      " 9   insurance             431089 non-null  object        \n",
      " 10  language              431089 non-null  object        \n",
      " 11  marital_status        421881 non-null  object        \n",
      " 12  race                  431089 non-null  object        \n",
      " 13  edregtime             299167 non-null  object        \n",
      " 14  edouttime             299167 non-null  object        \n",
      " 15  hospital_expire_flag  431089 non-null  int64         \n",
      " 16  ADMITTIME             431089 non-null  datetime64[ns]\n",
      " 17  DISCHTIME             431089 non-null  datetime64[ns]\n",
      " 18  LOS                   431089 non-null  float64       \n",
      "dtypes: datetime64[ns](2), float64(1), int64(3), object(13)\n",
      "memory usage: 65.8+ MB\n"
     ]
    }
   ],
   "source": [
    "admissions.info()"
   ]
  },
  {
   "cell_type": "code",
   "execution_count": 51,
   "id": "8312e74c",
   "metadata": {},
   "outputs": [
    {
     "data": {
      "text/plain": [
       "0        2180-05-07 17:15:00\n",
       "1        2180-06-27 18:49:00\n",
       "2        2180-08-07 17:50:00\n",
       "3        2180-07-25 17:55:00\n",
       "4        2160-03-04 06:26:00\n",
       "                 ...        \n",
       "431226   2149-01-18 17:00:00\n",
       "431227   2147-08-04 18:10:00\n",
       "431228   2164-09-17 13:42:00\n",
       "431229   2164-07-28 12:15:00\n",
       "431230   2145-11-11 12:57:00\n",
       "Name: dischtime, Length: 431231, dtype: datetime64[ns]"
      ]
     },
     "execution_count": 51,
     "metadata": {},
     "output_type": "execute_result"
    }
   ],
   "source": [
    "# Made admittime and dischtime datetime objects\n",
    "pd.to_datetime(admissions['admittime'])\n",
    "pd.to_datetime(admissions['dischtime'])"
   ]
  },
  {
   "cell_type": "code",
   "execution_count": 62,
   "id": "11ede9cd",
   "metadata": {},
   "outputs": [
    {
     "data": {
      "text/plain": [
       "count    431231.000000\n",
       "mean          4.483283\n",
       "std           6.626732\n",
       "min          -0.945139\n",
       "25%           1.070139\n",
       "50%           2.737500\n",
       "75%           5.241667\n",
       "max         295.988194\n",
       "Name: LOS, dtype: float64"
      ]
     },
     "execution_count": 62,
     "metadata": {},
     "output_type": "execute_result"
    }
   ],
   "source": [
    "# Calculate LOS\n",
    "# Convert admission and discharge times to datatime type\n",
    "admissions['ADMITTIME'] = pd.to_datetime(admissions['admittime'])\n",
    "admissions['DISCHTIME'] = pd.to_datetime(admissions['dischtime'])\n",
    "\n",
    "# Calculating the Length of Stay variable using the difference between Discharge time and Admit time \n",
    "# Convert timedelta type into float 'days'. Note: There are 86400 seconds in a day\n",
    "admissions['LOS'] = (admissions['DISCHTIME'] - admissions['ADMITTIME']).dt.total_seconds()/86400\n",
    "admissions['LOS'].describe()"
   ]
  },
  {
   "cell_type": "markdown",
   "id": "c9c08aa6",
   "metadata": {},
   "source": [
    "**The minimum stay time is negative, this is not possible, so we should further explore this data in EDA.**"
   ]
  },
  {
   "cell_type": "code",
   "execution_count": 64,
   "id": "fb0d0a18",
   "metadata": {},
   "outputs": [
    {
     "data": {
      "text/plain": [
       "count    431089.000000\n",
       "mean          4.484862\n",
       "std           6.627251\n",
       "min           0.000694\n",
       "25%           1.071528\n",
       "50%           2.738194\n",
       "75%           5.243750\n",
       "max         295.988194\n",
       "Name: LOS, dtype: float64"
      ]
     },
     "execution_count": 64,
     "metadata": {},
     "output_type": "execute_result"
    }
   ],
   "source": [
    "# Drop rows with negative LOS. The negative LOS means that the patient was brought dead to the ICU.\n",
    "admissions['LOS'][admissions['LOS'] > 0].describe()"
   ]
  },
  {
   "cell_type": "code",
   "execution_count": 67,
   "id": "01730603",
   "metadata": {},
   "outputs": [],
   "source": [
    "admissions = admissions[admissions['LOS'] > 0]"
   ]
  },
  {
   "cell_type": "code",
   "execution_count": 68,
   "id": "99bcc35a",
   "metadata": {},
   "outputs": [
    {
     "data": {
      "text/html": [
       "<div>\n",
       "<style scoped>\n",
       "    .dataframe tbody tr th:only-of-type {\n",
       "        vertical-align: middle;\n",
       "    }\n",
       "\n",
       "    .dataframe tbody tr th {\n",
       "        vertical-align: top;\n",
       "    }\n",
       "\n",
       "    .dataframe thead th {\n",
       "        text-align: right;\n",
       "    }\n",
       "</style>\n",
       "<table border=\"1\" class=\"dataframe\">\n",
       "  <thead>\n",
       "    <tr style=\"text-align: right;\">\n",
       "      <th></th>\n",
       "      <th>subject_id</th>\n",
       "      <th>hadm_id</th>\n",
       "      <th>admittime</th>\n",
       "      <th>dischtime</th>\n",
       "      <th>deathtime</th>\n",
       "      <th>admission_type</th>\n",
       "      <th>admit_provider_id</th>\n",
       "      <th>admission_location</th>\n",
       "      <th>discharge_location</th>\n",
       "      <th>insurance</th>\n",
       "      <th>language</th>\n",
       "      <th>marital_status</th>\n",
       "      <th>race</th>\n",
       "      <th>edregtime</th>\n",
       "      <th>edouttime</th>\n",
       "      <th>hospital_expire_flag</th>\n",
       "      <th>ADMITTIME</th>\n",
       "      <th>DISCHTIME</th>\n",
       "      <th>LOS</th>\n",
       "    </tr>\n",
       "  </thead>\n",
       "  <tbody>\n",
       "    <tr>\n",
       "      <th>0</th>\n",
       "      <td>10000032</td>\n",
       "      <td>22595853</td>\n",
       "      <td>2180-05-06 22:23:00</td>\n",
       "      <td>2180-05-07 17:15:00</td>\n",
       "      <td>NaN</td>\n",
       "      <td>URGENT</td>\n",
       "      <td>P874LG</td>\n",
       "      <td>TRANSFER FROM HOSPITAL</td>\n",
       "      <td>HOME</td>\n",
       "      <td>Other</td>\n",
       "      <td>ENGLISH</td>\n",
       "      <td>WIDOWED</td>\n",
       "      <td>WHITE</td>\n",
       "      <td>2180-05-06 19:17:00</td>\n",
       "      <td>2180-05-06 23:30:00</td>\n",
       "      <td>0</td>\n",
       "      <td>2180-05-06 22:23:00</td>\n",
       "      <td>2180-05-07 17:15:00</td>\n",
       "      <td>0.786111</td>\n",
       "    </tr>\n",
       "    <tr>\n",
       "      <th>1</th>\n",
       "      <td>10000032</td>\n",
       "      <td>22841357</td>\n",
       "      <td>2180-06-26 18:27:00</td>\n",
       "      <td>2180-06-27 18:49:00</td>\n",
       "      <td>NaN</td>\n",
       "      <td>EW EMER.</td>\n",
       "      <td>P09Q6Y</td>\n",
       "      <td>EMERGENCY ROOM</td>\n",
       "      <td>HOME</td>\n",
       "      <td>Medicaid</td>\n",
       "      <td>ENGLISH</td>\n",
       "      <td>WIDOWED</td>\n",
       "      <td>WHITE</td>\n",
       "      <td>2180-06-26 15:54:00</td>\n",
       "      <td>2180-06-26 21:31:00</td>\n",
       "      <td>0</td>\n",
       "      <td>2180-06-26 18:27:00</td>\n",
       "      <td>2180-06-27 18:49:00</td>\n",
       "      <td>1.015278</td>\n",
       "    </tr>\n",
       "    <tr>\n",
       "      <th>2</th>\n",
       "      <td>10000032</td>\n",
       "      <td>25742920</td>\n",
       "      <td>2180-08-05 23:44:00</td>\n",
       "      <td>2180-08-07 17:50:00</td>\n",
       "      <td>NaN</td>\n",
       "      <td>EW EMER.</td>\n",
       "      <td>P60CC5</td>\n",
       "      <td>EMERGENCY ROOM</td>\n",
       "      <td>HOSPICE</td>\n",
       "      <td>Medicaid</td>\n",
       "      <td>ENGLISH</td>\n",
       "      <td>WIDOWED</td>\n",
       "      <td>WHITE</td>\n",
       "      <td>2180-08-05 20:58:00</td>\n",
       "      <td>2180-08-06 01:44:00</td>\n",
       "      <td>0</td>\n",
       "      <td>2180-08-05 23:44:00</td>\n",
       "      <td>2180-08-07 17:50:00</td>\n",
       "      <td>1.754167</td>\n",
       "    </tr>\n",
       "    <tr>\n",
       "      <th>3</th>\n",
       "      <td>10000032</td>\n",
       "      <td>29079034</td>\n",
       "      <td>2180-07-23 12:35:00</td>\n",
       "      <td>2180-07-25 17:55:00</td>\n",
       "      <td>NaN</td>\n",
       "      <td>EW EMER.</td>\n",
       "      <td>P30KEH</td>\n",
       "      <td>EMERGENCY ROOM</td>\n",
       "      <td>HOME</td>\n",
       "      <td>Medicaid</td>\n",
       "      <td>ENGLISH</td>\n",
       "      <td>WIDOWED</td>\n",
       "      <td>WHITE</td>\n",
       "      <td>2180-07-23 05:54:00</td>\n",
       "      <td>2180-07-23 14:00:00</td>\n",
       "      <td>0</td>\n",
       "      <td>2180-07-23 12:35:00</td>\n",
       "      <td>2180-07-25 17:55:00</td>\n",
       "      <td>2.222222</td>\n",
       "    </tr>\n",
       "    <tr>\n",
       "      <th>4</th>\n",
       "      <td>10000068</td>\n",
       "      <td>25022803</td>\n",
       "      <td>2160-03-03 23:16:00</td>\n",
       "      <td>2160-03-04 06:26:00</td>\n",
       "      <td>NaN</td>\n",
       "      <td>EU OBSERVATION</td>\n",
       "      <td>P51VDL</td>\n",
       "      <td>EMERGENCY ROOM</td>\n",
       "      <td>NaN</td>\n",
       "      <td>Other</td>\n",
       "      <td>ENGLISH</td>\n",
       "      <td>SINGLE</td>\n",
       "      <td>WHITE</td>\n",
       "      <td>2160-03-03 21:55:00</td>\n",
       "      <td>2160-03-04 06:26:00</td>\n",
       "      <td>0</td>\n",
       "      <td>2160-03-03 23:16:00</td>\n",
       "      <td>2160-03-04 06:26:00</td>\n",
       "      <td>0.298611</td>\n",
       "    </tr>\n",
       "  </tbody>\n",
       "</table>\n",
       "</div>"
      ],
      "text/plain": [
       "   subject_id   hadm_id            admittime            dischtime deathtime  \\\n",
       "0    10000032  22595853  2180-05-06 22:23:00  2180-05-07 17:15:00       NaN   \n",
       "1    10000032  22841357  2180-06-26 18:27:00  2180-06-27 18:49:00       NaN   \n",
       "2    10000032  25742920  2180-08-05 23:44:00  2180-08-07 17:50:00       NaN   \n",
       "3    10000032  29079034  2180-07-23 12:35:00  2180-07-25 17:55:00       NaN   \n",
       "4    10000068  25022803  2160-03-03 23:16:00  2160-03-04 06:26:00       NaN   \n",
       "\n",
       "   admission_type admit_provider_id      admission_location  \\\n",
       "0          URGENT            P874LG  TRANSFER FROM HOSPITAL   \n",
       "1        EW EMER.            P09Q6Y          EMERGENCY ROOM   \n",
       "2        EW EMER.            P60CC5          EMERGENCY ROOM   \n",
       "3        EW EMER.            P30KEH          EMERGENCY ROOM   \n",
       "4  EU OBSERVATION            P51VDL          EMERGENCY ROOM   \n",
       "\n",
       "  discharge_location insurance language marital_status   race  \\\n",
       "0               HOME     Other  ENGLISH        WIDOWED  WHITE   \n",
       "1               HOME  Medicaid  ENGLISH        WIDOWED  WHITE   \n",
       "2            HOSPICE  Medicaid  ENGLISH        WIDOWED  WHITE   \n",
       "3               HOME  Medicaid  ENGLISH        WIDOWED  WHITE   \n",
       "4                NaN     Other  ENGLISH         SINGLE  WHITE   \n",
       "\n",
       "             edregtime            edouttime  hospital_expire_flag  \\\n",
       "0  2180-05-06 19:17:00  2180-05-06 23:30:00                     0   \n",
       "1  2180-06-26 15:54:00  2180-06-26 21:31:00                     0   \n",
       "2  2180-08-05 20:58:00  2180-08-06 01:44:00                     0   \n",
       "3  2180-07-23 05:54:00  2180-07-23 14:00:00                     0   \n",
       "4  2160-03-03 21:55:00  2160-03-04 06:26:00                     0   \n",
       "\n",
       "            ADMITTIME           DISCHTIME       LOS  \n",
       "0 2180-05-06 22:23:00 2180-05-07 17:15:00  0.786111  \n",
       "1 2180-06-26 18:27:00 2180-06-27 18:49:00  1.015278  \n",
       "2 2180-08-05 23:44:00 2180-08-07 17:50:00  1.754167  \n",
       "3 2180-07-23 12:35:00 2180-07-25 17:55:00  2.222222  \n",
       "4 2160-03-03 23:16:00 2160-03-04 06:26:00  0.298611  "
      ]
     },
     "execution_count": 68,
     "metadata": {},
     "output_type": "execute_result"
    }
   ],
   "source": [
    "admissions.head()"
   ]
  },
  {
   "cell_type": "code",
   "execution_count": 70,
   "id": "f9888042",
   "metadata": {},
   "outputs": [
    {
     "data": {
      "image/png": "[encoded data removed]",
      "text/plain": [
       "<Figure size 640x480 with 1 Axes>"
      ]
     },
     "metadata": {},
     "output_type": "display_data"
    }
   ],
   "source": [
    "# Plot LOS Distribution\n",
    "plt.hist(admissions['LOS'], bins=200, color = '0.75')\n",
    "plt.xlim(0, 100)\n",
    "plt.title('Distribution of LOS for all hospital admissions \\n incl. deceased')\n",
    "plt.ylabel('Count')\n",
    "plt.xlabel('Length-of-Stay (days)')\n",
    "plt.tick_params(top=False, right=False) \n",
    "plt.show();"
   ]
  },
  {
   "cell_type": "code",
   "execution_count": 71,
   "id": "4a27daff",
   "metadata": {},
   "outputs": [
    {
     "name": "stdout",
     "output_type": "stream",
     "text": [
      "Mean LOS:  4.484861981323351\n",
      "Median LOS:  2.738194444444445\n",
      "Min LOS:  0.0006944444444444446\n",
      "Max LOS:  295.98819444444445\n"
     ]
    }
   ],
   "source": [
    "# Descriptive analysis of LOS metric (target variable)\n",
    "mean_los = admissions['LOS'].mean() \n",
    "median_los = admissions['LOS'].median()\n",
    "min_los = admissions['LOS'].min()\n",
    "max_los = admissions['LOS'].max()\n",
    "\n",
    "print(\"Mean LOS: \",mean_los)\n",
    "print(\"Median LOS: \",median_los)\n",
    "print(\"Min LOS: \",min_los)\n",
    "print(\"Max LOS: \",max_los)"
   ]
  },
  {
   "cell_type": "code",
   "execution_count": 86,
   "id": "35f1f51c",
   "metadata": {},
   "outputs": [],
   "source": [
    "# Filtering only admission with LOS less than 40 days to reduce the skewness of the data.\n",
    "admissions = admissions[admissions['LOS'] <40]"
   ]
  },
  {
   "cell_type": "code",
   "execution_count": 73,
   "id": "cc4ce0ba",
   "metadata": {},
   "outputs": [
    {
     "data": {
      "text/html": [
       "<div>\n",
       "<style scoped>\n",
       "    .dataframe tbody tr th:only-of-type {\n",
       "        vertical-align: middle;\n",
       "    }\n",
       "\n",
       "    .dataframe tbody tr th {\n",
       "        vertical-align: top;\n",
       "    }\n",
       "\n",
       "    .dataframe thead th {\n",
       "        text-align: right;\n",
       "    }\n",
       "</style>\n",
       "<table border=\"1\" class=\"dataframe\">\n",
       "  <thead>\n",
       "    <tr style=\"text-align: right;\">\n",
       "      <th></th>\n",
       "      <th>subject_id</th>\n",
       "      <th>hadm_id</th>\n",
       "      <th>hospital_expire_flag</th>\n",
       "      <th>LOS</th>\n",
       "    </tr>\n",
       "  </thead>\n",
       "  <tbody>\n",
       "    <tr>\n",
       "      <th>count</th>\n",
       "      <td>4.310890e+05</td>\n",
       "      <td>4.310890e+05</td>\n",
       "      <td>431089.000000</td>\n",
       "      <td>431089.000000</td>\n",
       "    </tr>\n",
       "    <tr>\n",
       "      <th>mean</th>\n",
       "      <td>1.500775e+07</td>\n",
       "      <td>2.500321e+07</td>\n",
       "      <td>0.019803</td>\n",
       "      <td>4.484862</td>\n",
       "    </tr>\n",
       "    <tr>\n",
       "      <th>std</th>\n",
       "      <td>2.877490e+06</td>\n",
       "      <td>2.888120e+06</td>\n",
       "      <td>0.139324</td>\n",
       "      <td>6.627251</td>\n",
       "    </tr>\n",
       "    <tr>\n",
       "      <th>min</th>\n",
       "      <td>1.000003e+07</td>\n",
       "      <td>2.000002e+07</td>\n",
       "      <td>0.000000</td>\n",
       "      <td>0.000694</td>\n",
       "    </tr>\n",
       "    <tr>\n",
       "      <th>25%</th>\n",
       "      <td>1.251584e+07</td>\n",
       "      <td>2.250184e+07</td>\n",
       "      <td>0.000000</td>\n",
       "      <td>1.071528</td>\n",
       "    </tr>\n",
       "    <tr>\n",
       "      <th>50%</th>\n",
       "      <td>1.501288e+07</td>\n",
       "      <td>2.500675e+07</td>\n",
       "      <td>0.000000</td>\n",
       "      <td>2.738194</td>\n",
       "    </tr>\n",
       "    <tr>\n",
       "      <th>75%</th>\n",
       "      <td>1.749628e+07</td>\n",
       "      <td>2.750462e+07</td>\n",
       "      <td>0.000000</td>\n",
       "      <td>5.243750</td>\n",
       "    </tr>\n",
       "    <tr>\n",
       "      <th>max</th>\n",
       "      <td>1.999999e+07</td>\n",
       "      <td>2.999993e+07</td>\n",
       "      <td>1.000000</td>\n",
       "      <td>295.988194</td>\n",
       "    </tr>\n",
       "  </tbody>\n",
       "</table>\n",
       "</div>"
      ],
      "text/plain": [
       "         subject_id       hadm_id  hospital_expire_flag            LOS\n",
       "count  4.310890e+05  4.310890e+05         431089.000000  431089.000000\n",
       "mean   1.500775e+07  2.500321e+07              0.019803       4.484862\n",
       "std    2.877490e+06  2.888120e+06              0.139324       6.627251\n",
       "min    1.000003e+07  2.000002e+07              0.000000       0.000694\n",
       "25%    1.251584e+07  2.250184e+07              0.000000       1.071528\n",
       "50%    1.501288e+07  2.500675e+07              0.000000       2.738194\n",
       "75%    1.749628e+07  2.750462e+07              0.000000       5.243750\n",
       "max    1.999999e+07  2.999993e+07              1.000000     295.988194"
      ]
     },
     "execution_count": 73,
     "metadata": {},
     "output_type": "execute_result"
    }
   ],
   "source": [
    "admissions.describe()"
   ]
  },
  {
   "cell_type": "code",
   "execution_count": 74,
   "id": "db2b1836",
   "metadata": {},
   "outputs": [
    {
     "data": {
      "text/plain": [
       "EW EMER.                       149346\n",
       "EU OBSERVATION                  94729\n",
       "OBSERVATION ADMIT               52663\n",
       "URGENT                          44680\n",
       "SURGICAL SAME DAY ADMISSION     34229\n",
       "DIRECT EMER.                    19550\n",
       "DIRECT OBSERVATION              18701\n",
       "ELECTIVE                        10565\n",
       "AMBULATORY OBSERVATION           6626\n",
       "Name: admission_type, dtype: int64"
      ]
     },
     "execution_count": 74,
     "metadata": {},
     "output_type": "execute_result"
    }
   ],
   "source": [
    "admissions['admission_type'].value_counts()"
   ]
  },
  {
   "cell_type": "code",
   "execution_count": 81,
   "id": "33875e14",
   "metadata": {},
   "outputs": [],
   "source": [
    "# Bar plot function\n",
    "def plot_los_groupby(variable, size=(7,4)):\n",
    "    ''' \n",
    "    Plot Median LOS by df categorical series name \n",
    "    '''\n",
    "    results = admissions[[variable, 'LOS']].groupby(variable).median().reset_index()\n",
    "    values = list(results['LOS'].values)\n",
    "    labels = list(results[variable].values)\n",
    "\n",
    "    fig, ax = plt.subplots(figsize=size)\n",
    "    ind = range(len(results))\n",
    "    ax.barh(ind, values, align='center', height=0.6, color = '#55a868', alpha=0.8)\n",
    "    ax.set_yticks(ind)\n",
    "    ax.set_yticklabels(labels)\n",
    "    ax.set_xlabel('Median Length of Stay (days)')\n",
    "    ax.tick_params(left=False, top=False, right=False) \n",
    "    ax.set_title('Comparison of {} labels'.format(variable))\n",
    "    \n",
    "    plt.tight_layout()\n",
    "    plt.show();"
   ]
  },
  {
   "cell_type": "code",
   "execution_count": 82,
   "id": "dd1b1abd",
   "metadata": {},
   "outputs": [
    {
     "data": {
      "image/png": "[encoded data removed]",
      "text/plain": [
       "<Figure size 700x400 with 1 Axes>"
      ]
     },
     "metadata": {},
     "output_type": "display_data"
    }
   ],
   "source": [
    "plot_los_groupby('admission_type')"
   ]
  },
  {
   "cell_type": "markdown",
   "id": "2280e958",
   "metadata": {},
   "source": [
    "#### Patients Table\n",
    "<p> Patients' gender, age, and date of death if information exists.\n",
    "Information that is consistent for the lifetime of a patient is stored in this table.\n",
    "\n",
    "<br> </p> **interested in subject id and age**"
   ]
  },
  {
   "cell_type": "code",
   "execution_count": 18,
   "id": "88d57e32",
   "metadata": {},
   "outputs": [],
   "source": [
    "patients = pd.read_csv('mimiciv/2.0/hosp/patients.csv.gz')"
   ]
  },
  {
   "cell_type": "code",
   "execution_count": 19,
   "id": "e034125d",
   "metadata": {},
   "outputs": [
    {
     "data": {
      "text/html": [
       "<div>\n",
       "<style scoped>\n",
       "    .dataframe tbody tr th:only-of-type {\n",
       "        vertical-align: middle;\n",
       "    }\n",
       "\n",
       "    .dataframe tbody tr th {\n",
       "        vertical-align: top;\n",
       "    }\n",
       "\n",
       "    .dataframe thead th {\n",
       "        text-align: right;\n",
       "    }\n",
       "</style>\n",
       "<table border=\"1\" class=\"dataframe\">\n",
       "  <thead>\n",
       "    <tr style=\"text-align: right;\">\n",
       "      <th></th>\n",
       "      <th>subject_id</th>\n",
       "      <th>gender</th>\n",
       "      <th>anchor_age</th>\n",
       "      <th>anchor_year</th>\n",
       "      <th>anchor_year_group</th>\n",
       "      <th>dod</th>\n",
       "    </tr>\n",
       "  </thead>\n",
       "  <tbody>\n",
       "    <tr>\n",
       "      <th>0</th>\n",
       "      <td>10000032</td>\n",
       "      <td>F</td>\n",
       "      <td>52</td>\n",
       "      <td>2180</td>\n",
       "      <td>2014 - 2016</td>\n",
       "      <td>2180-09-09</td>\n",
       "    </tr>\n",
       "    <tr>\n",
       "      <th>1</th>\n",
       "      <td>10000048</td>\n",
       "      <td>F</td>\n",
       "      <td>23</td>\n",
       "      <td>2126</td>\n",
       "      <td>2008 - 2010</td>\n",
       "      <td>NaN</td>\n",
       "    </tr>\n",
       "    <tr>\n",
       "      <th>2</th>\n",
       "      <td>10000068</td>\n",
       "      <td>F</td>\n",
       "      <td>19</td>\n",
       "      <td>2160</td>\n",
       "      <td>2008 - 2010</td>\n",
       "      <td>NaN</td>\n",
       "    </tr>\n",
       "    <tr>\n",
       "      <th>3</th>\n",
       "      <td>10000084</td>\n",
       "      <td>M</td>\n",
       "      <td>72</td>\n",
       "      <td>2160</td>\n",
       "      <td>2017 - 2019</td>\n",
       "      <td>2161-02-13</td>\n",
       "    </tr>\n",
       "    <tr>\n",
       "      <th>4</th>\n",
       "      <td>10000102</td>\n",
       "      <td>F</td>\n",
       "      <td>27</td>\n",
       "      <td>2136</td>\n",
       "      <td>2008 - 2010</td>\n",
       "      <td>NaN</td>\n",
       "    </tr>\n",
       "  </tbody>\n",
       "</table>\n",
       "</div>"
      ],
      "text/plain": [
       "   subject_id gender  anchor_age  anchor_year anchor_year_group         dod\n",
       "0    10000032      F          52         2180       2014 - 2016  2180-09-09\n",
       "1    10000048      F          23         2126       2008 - 2010         NaN\n",
       "2    10000068      F          19         2160       2008 - 2010         NaN\n",
       "3    10000084      M          72         2160       2017 - 2019  2161-02-13\n",
       "4    10000102      F          27         2136       2008 - 2010         NaN"
      ]
     },
     "execution_count": 19,
     "metadata": {},
     "output_type": "execute_result"
    }
   ],
   "source": [
    "patients.head()"
   ]
  },
  {
   "cell_type": "code",
   "execution_count": 29,
   "id": "e5d75fd0",
   "metadata": {},
   "outputs": [
    {
     "name": "stdout",
     "output_type": "stream",
     "text": [
      "Dataset has 299712 number of unique patients.\n"
     ]
    }
   ],
   "source": [
    "# Unique patients\n",
    "print('Dataset has {} number of unique patients.'.format(patients['subject_id'].nunique()))"
   ]
  },
  {
   "cell_type": "markdown",
   "id": "ddaa031d",
   "metadata": {},
   "source": [
    "The number of entries is equal to the number of unique patients. No duplicates."
   ]
  },
  {
   "cell_type": "markdown",
   "id": "8888a6ee",
   "metadata": {},
   "source": [
    "##### Number of missing values by column"
   ]
  },
  {
   "cell_type": "code",
   "execution_count": 32,
   "id": "3bc6495a",
   "metadata": {},
   "outputs": [
    {
     "data": {
      "text/html": [
       "<div>\n",
       "<style scoped>\n",
       "    .dataframe tbody tr th:only-of-type {\n",
       "        vertical-align: middle;\n",
       "    }\n",
       "\n",
       "    .dataframe tbody tr th {\n",
       "        vertical-align: top;\n",
       "    }\n",
       "\n",
       "    .dataframe thead th {\n",
       "        text-align: right;\n",
       "    }\n",
       "</style>\n",
       "<table border=\"1\" class=\"dataframe\">\n",
       "  <thead>\n",
       "    <tr style=\"text-align: right;\">\n",
       "      <th></th>\n",
       "      <th>count</th>\n",
       "      <th>%</th>\n",
       "    </tr>\n",
       "  </thead>\n",
       "  <tbody>\n",
       "    <tr>\n",
       "      <th>dod</th>\n",
       "      <td>270636</td>\n",
       "      <td>90.298687</td>\n",
       "    </tr>\n",
       "    <tr>\n",
       "      <th>subject_id</th>\n",
       "      <td>0</td>\n",
       "      <td>0.000000</td>\n",
       "    </tr>\n",
       "    <tr>\n",
       "      <th>gender</th>\n",
       "      <td>0</td>\n",
       "      <td>0.000000</td>\n",
       "    </tr>\n",
       "    <tr>\n",
       "      <th>anchor_age</th>\n",
       "      <td>0</td>\n",
       "      <td>0.000000</td>\n",
       "    </tr>\n",
       "    <tr>\n",
       "      <th>anchor_year</th>\n",
       "      <td>0</td>\n",
       "      <td>0.000000</td>\n",
       "    </tr>\n",
       "    <tr>\n",
       "      <th>anchor_year_group</th>\n",
       "      <td>0</td>\n",
       "      <td>0.000000</td>\n",
       "    </tr>\n",
       "  </tbody>\n",
       "</table>\n",
       "</div>"
      ],
      "text/plain": [
       "                    count          %\n",
       "dod                270636  90.298687\n",
       "subject_id              0   0.000000\n",
       "gender                  0   0.000000\n",
       "anchor_age              0   0.000000\n",
       "anchor_year             0   0.000000\n",
       "anchor_year_group       0   0.000000"
      ]
     },
     "execution_count": 32,
     "metadata": {},
     "output_type": "execute_result"
    }
   ],
   "source": [
    "missing = pd.concat([patients.isnull().sum(), 100 * patients.isnull().mean()], axis=1)\n",
    "missing.columns=['count', '%']\n",
    "missing.sort_values(by='count', ascending=False)"
   ]
  },
  {
   "cell_type": "markdown",
   "id": "48f8d99f",
   "metadata": {},
   "source": [
    "There are no missing values."
   ]
  },
  {
   "cell_type": "code",
   "execution_count": 41,
   "id": "894b7ebd",
   "metadata": {},
   "outputs": [
    {
     "name": "stdout",
     "output_type": "stream",
     "text": [
      "<class 'pandas.core.frame.DataFrame'>\n",
      "RangeIndex: 299712 entries, 0 to 299711\n",
      "Data columns (total 6 columns):\n",
      " #   Column             Non-Null Count   Dtype \n",
      "---  ------             --------------   ----- \n",
      " 0   subject_id         299712 non-null  int64 \n",
      " 1   gender             299712 non-null  object\n",
      " 2   anchor_age         299712 non-null  int64 \n",
      " 3   anchor_year        299712 non-null  int64 \n",
      " 4   anchor_year_group  299712 non-null  object\n",
      " 5   dod                29076 non-null   object\n",
      "dtypes: int64(3), object(3)\n",
      "memory usage: 13.7+ MB\n"
     ]
    }
   ],
   "source": [
    "patients.info()"
   ]
  },
  {
   "cell_type": "code",
   "execution_count": 53,
   "id": "e83effa2",
   "metadata": {},
   "outputs": [
    {
     "data": {
      "text/html": [
       "<div>\n",
       "<style scoped>\n",
       "    .dataframe tbody tr th:only-of-type {\n",
       "        vertical-align: middle;\n",
       "    }\n",
       "\n",
       "    .dataframe tbody tr th {\n",
       "        vertical-align: top;\n",
       "    }\n",
       "\n",
       "    .dataframe thead th {\n",
       "        text-align: right;\n",
       "    }\n",
       "</style>\n",
       "<table border=\"1\" class=\"dataframe\">\n",
       "  <thead>\n",
       "    <tr style=\"text-align: right;\">\n",
       "      <th></th>\n",
       "      <th>subject_id</th>\n",
       "      <th>anchor_age</th>\n",
       "      <th>anchor_year</th>\n",
       "    </tr>\n",
       "  </thead>\n",
       "  <tbody>\n",
       "    <tr>\n",
       "      <th>count</th>\n",
       "      <td>2.997120e+05</td>\n",
       "      <td>299712.000000</td>\n",
       "      <td>299712.000000</td>\n",
       "    </tr>\n",
       "    <tr>\n",
       "      <th>mean</th>\n",
       "      <td>1.500885e+07</td>\n",
       "      <td>48.539888</td>\n",
       "      <td>2151.124056</td>\n",
       "    </tr>\n",
       "    <tr>\n",
       "      <th>std</th>\n",
       "      <td>2.885019e+06</td>\n",
       "      <td>20.895650</td>\n",
       "      <td>23.464598</td>\n",
       "    </tr>\n",
       "    <tr>\n",
       "      <th>min</th>\n",
       "      <td>1.000003e+07</td>\n",
       "      <td>18.000000</td>\n",
       "      <td>2110.000000</td>\n",
       "    </tr>\n",
       "    <tr>\n",
       "      <th>25%</th>\n",
       "      <td>1.250796e+07</td>\n",
       "      <td>29.000000</td>\n",
       "      <td>2131.000000</td>\n",
       "    </tr>\n",
       "    <tr>\n",
       "      <th>50%</th>\n",
       "      <td>1.501416e+07</td>\n",
       "      <td>48.000000</td>\n",
       "      <td>2151.000000</td>\n",
       "    </tr>\n",
       "    <tr>\n",
       "      <th>75%</th>\n",
       "      <td>1.750489e+07</td>\n",
       "      <td>65.000000</td>\n",
       "      <td>2171.000000</td>\n",
       "    </tr>\n",
       "    <tr>\n",
       "      <th>max</th>\n",
       "      <td>1.999999e+07</td>\n",
       "      <td>91.000000</td>\n",
       "      <td>2208.000000</td>\n",
       "    </tr>\n",
       "  </tbody>\n",
       "</table>\n",
       "</div>"
      ],
      "text/plain": [
       "         subject_id     anchor_age    anchor_year\n",
       "count  2.997120e+05  299712.000000  299712.000000\n",
       "mean   1.500885e+07      48.539888    2151.124056\n",
       "std    2.885019e+06      20.895650      23.464598\n",
       "min    1.000003e+07      18.000000    2110.000000\n",
       "25%    1.250796e+07      29.000000    2131.000000\n",
       "50%    1.501416e+07      48.000000    2151.000000\n",
       "75%    1.750489e+07      65.000000    2171.000000\n",
       "max    1.999999e+07      91.000000    2208.000000"
      ]
     },
     "execution_count": 53,
     "metadata": {},
     "output_type": "execute_result"
    }
   ],
   "source": [
    "patients.describe()"
   ]
  },
  {
   "cell_type": "markdown",
   "id": "c13f2a25",
   "metadata": {},
   "source": [
    "#### ICU stays\n",
    "Defines each ICU stay in the database using STAY_ID.\n",
    "<br> **interested in the in and out times, and subject id, hadm_id to merge on.**"
   ]
  },
  {
   "cell_type": "code",
   "execution_count": 21,
   "id": "d4c02e4f",
   "metadata": {},
   "outputs": [],
   "source": [
    "icustays = pd.read_csv('mimiciv/2.0/icu/icustays.csv.gz')"
   ]
  },
  {
   "cell_type": "code",
   "execution_count": 22,
   "id": "c6bc94ee",
   "metadata": {},
   "outputs": [
    {
     "data": {
      "text/html": [
       "<div>\n",
       "<style scoped>\n",
       "    .dataframe tbody tr th:only-of-type {\n",
       "        vertical-align: middle;\n",
       "    }\n",
       "\n",
       "    .dataframe tbody tr th {\n",
       "        vertical-align: top;\n",
       "    }\n",
       "\n",
       "    .dataframe thead th {\n",
       "        text-align: right;\n",
       "    }\n",
       "</style>\n",
       "<table border=\"1\" class=\"dataframe\">\n",
       "  <thead>\n",
       "    <tr style=\"text-align: right;\">\n",
       "      <th></th>\n",
       "      <th>subject_id</th>\n",
       "      <th>hadm_id</th>\n",
       "      <th>stay_id</th>\n",
       "      <th>first_careunit</th>\n",
       "      <th>last_careunit</th>\n",
       "      <th>intime</th>\n",
       "      <th>outtime</th>\n",
       "      <th>los</th>\n",
       "    </tr>\n",
       "  </thead>\n",
       "  <tbody>\n",
       "    <tr>\n",
       "      <th>0</th>\n",
       "      <td>10000032</td>\n",
       "      <td>29079034</td>\n",
       "      <td>39553978</td>\n",
       "      <td>Medical Intensive Care Unit (MICU)</td>\n",
       "      <td>Medical Intensive Care Unit (MICU)</td>\n",
       "      <td>2180-07-23 14:00:00</td>\n",
       "      <td>2180-07-23 23:50:47</td>\n",
       "      <td>0.410266</td>\n",
       "    </tr>\n",
       "    <tr>\n",
       "      <th>1</th>\n",
       "      <td>10000980</td>\n",
       "      <td>26913865</td>\n",
       "      <td>39765666</td>\n",
       "      <td>Medical Intensive Care Unit (MICU)</td>\n",
       "      <td>Medical Intensive Care Unit (MICU)</td>\n",
       "      <td>2189-06-27 08:42:00</td>\n",
       "      <td>2189-06-27 20:38:27</td>\n",
       "      <td>0.497535</td>\n",
       "    </tr>\n",
       "    <tr>\n",
       "      <th>2</th>\n",
       "      <td>10001217</td>\n",
       "      <td>24597018</td>\n",
       "      <td>37067082</td>\n",
       "      <td>Surgical Intensive Care Unit (SICU)</td>\n",
       "      <td>Surgical Intensive Care Unit (SICU)</td>\n",
       "      <td>2157-11-20 19:18:02</td>\n",
       "      <td>2157-11-21 22:08:00</td>\n",
       "      <td>1.118032</td>\n",
       "    </tr>\n",
       "    <tr>\n",
       "      <th>3</th>\n",
       "      <td>10001217</td>\n",
       "      <td>27703517</td>\n",
       "      <td>34592300</td>\n",
       "      <td>Surgical Intensive Care Unit (SICU)</td>\n",
       "      <td>Surgical Intensive Care Unit (SICU)</td>\n",
       "      <td>2157-12-19 15:42:24</td>\n",
       "      <td>2157-12-20 14:27:41</td>\n",
       "      <td>0.948113</td>\n",
       "    </tr>\n",
       "    <tr>\n",
       "      <th>4</th>\n",
       "      <td>10001725</td>\n",
       "      <td>25563031</td>\n",
       "      <td>31205490</td>\n",
       "      <td>Medical/Surgical Intensive Care Unit (MICU/SICU)</td>\n",
       "      <td>Medical/Surgical Intensive Care Unit (MICU/SICU)</td>\n",
       "      <td>2110-04-11 15:52:22</td>\n",
       "      <td>2110-04-12 23:59:56</td>\n",
       "      <td>1.338588</td>\n",
       "    </tr>\n",
       "  </tbody>\n",
       "</table>\n",
       "</div>"
      ],
      "text/plain": [
       "   subject_id   hadm_id   stay_id  \\\n",
       "0    10000032  29079034  39553978   \n",
       "1    10000980  26913865  39765666   \n",
       "2    10001217  24597018  37067082   \n",
       "3    10001217  27703517  34592300   \n",
       "4    10001725  25563031  31205490   \n",
       "\n",
       "                                     first_careunit  \\\n",
       "0                Medical Intensive Care Unit (MICU)   \n",
       "1                Medical Intensive Care Unit (MICU)   \n",
       "2               Surgical Intensive Care Unit (SICU)   \n",
       "3               Surgical Intensive Care Unit (SICU)   \n",
       "4  Medical/Surgical Intensive Care Unit (MICU/SICU)   \n",
       "\n",
       "                                      last_careunit               intime  \\\n",
       "0                Medical Intensive Care Unit (MICU)  2180-07-23 14:00:00   \n",
       "1                Medical Intensive Care Unit (MICU)  2189-06-27 08:42:00   \n",
       "2               Surgical Intensive Care Unit (SICU)  2157-11-20 19:18:02   \n",
       "3               Surgical Intensive Care Unit (SICU)  2157-12-19 15:42:24   \n",
       "4  Medical/Surgical Intensive Care Unit (MICU/SICU)  2110-04-11 15:52:22   \n",
       "\n",
       "               outtime       los  \n",
       "0  2180-07-23 23:50:47  0.410266  \n",
       "1  2189-06-27 20:38:27  0.497535  \n",
       "2  2157-11-21 22:08:00  1.118032  \n",
       "3  2157-12-20 14:27:41  0.948113  \n",
       "4  2110-04-12 23:59:56  1.338588  "
      ]
     },
     "execution_count": 22,
     "metadata": {},
     "output_type": "execute_result"
    }
   ],
   "source": [
    "icustays.head()"
   ]
  },
  {
   "cell_type": "code",
   "execution_count": 100,
   "id": "76335d4f",
   "metadata": {},
   "outputs": [
    {
     "name": "stdout",
     "output_type": "stream",
     "text": [
      "Dataset has 66239 number of unique admission events.\n",
      "Dataset has 50920 number of unique patients.\n"
     ]
    }
   ],
   "source": [
    "# Unique admission events\n",
    "print('Dataset has {} number of unique admission events.'.format(icustays['hadm_id'].nunique()))\n",
    "\n",
    "# Unique patients\n",
    "print('Dataset has {} number of unique patients.'.format(icustays['subject_id'].nunique()))"
   ]
  },
  {
   "cell_type": "code",
   "execution_count": 102,
   "id": "3b095004",
   "metadata": {},
   "outputs": [
    {
     "data": {
      "text/plain": [
       "True"
      ]
     },
     "execution_count": 102,
     "metadata": {},
     "output_type": "execute_result"
    }
   ],
   "source": [
    "icustays['hadm_id'].duplicated().any()"
   ]
  },
  {
   "cell_type": "code",
   "execution_count": 103,
   "id": "436dcde7",
   "metadata": {},
   "outputs": [
    {
     "data": {
      "text/plain": [
       "False"
      ]
     },
     "execution_count": 103,
     "metadata": {},
     "output_type": "execute_result"
    }
   ],
   "source": [
    "icustays['stay_id'].duplicated().any()"
   ]
  },
  {
   "cell_type": "markdown",
   "id": "f8592335",
   "metadata": {},
   "source": [
    "**Repeat visitors noted. There are also duplicated admission events as patients are often transferred within the same day denoting a new admision event for the same stay. We will have to encorporate the stay_id to merge with other dataframes.**"
   ]
  },
  {
   "cell_type": "markdown",
   "id": "a2e05042",
   "metadata": {},
   "source": [
    "##### Number of missing values by column"
   ]
  },
  {
   "cell_type": "code",
   "execution_count": 33,
   "id": "e8155cd7",
   "metadata": {},
   "outputs": [
    {
     "data": {
      "text/html": [
       "<div>\n",
       "<style scoped>\n",
       "    .dataframe tbody tr th:only-of-type {\n",
       "        vertical-align: middle;\n",
       "    }\n",
       "\n",
       "    .dataframe tbody tr th {\n",
       "        vertical-align: top;\n",
       "    }\n",
       "\n",
       "    .dataframe thead th {\n",
       "        text-align: right;\n",
       "    }\n",
       "</style>\n",
       "<table border=\"1\" class=\"dataframe\">\n",
       "  <thead>\n",
       "    <tr style=\"text-align: right;\">\n",
       "      <th></th>\n",
       "      <th>count</th>\n",
       "      <th>%</th>\n",
       "    </tr>\n",
       "  </thead>\n",
       "  <tbody>\n",
       "    <tr>\n",
       "      <th>subject_id</th>\n",
       "      <td>0</td>\n",
       "      <td>0.0</td>\n",
       "    </tr>\n",
       "    <tr>\n",
       "      <th>hadm_id</th>\n",
       "      <td>0</td>\n",
       "      <td>0.0</td>\n",
       "    </tr>\n",
       "    <tr>\n",
       "      <th>stay_id</th>\n",
       "      <td>0</td>\n",
       "      <td>0.0</td>\n",
       "    </tr>\n",
       "    <tr>\n",
       "      <th>first_careunit</th>\n",
       "      <td>0</td>\n",
       "      <td>0.0</td>\n",
       "    </tr>\n",
       "    <tr>\n",
       "      <th>last_careunit</th>\n",
       "      <td>0</td>\n",
       "      <td>0.0</td>\n",
       "    </tr>\n",
       "    <tr>\n",
       "      <th>intime</th>\n",
       "      <td>0</td>\n",
       "      <td>0.0</td>\n",
       "    </tr>\n",
       "    <tr>\n",
       "      <th>outtime</th>\n",
       "      <td>0</td>\n",
       "      <td>0.0</td>\n",
       "    </tr>\n",
       "    <tr>\n",
       "      <th>los</th>\n",
       "      <td>0</td>\n",
       "      <td>0.0</td>\n",
       "    </tr>\n",
       "  </tbody>\n",
       "</table>\n",
       "</div>"
      ],
      "text/plain": [
       "                count    %\n",
       "subject_id          0  0.0\n",
       "hadm_id             0  0.0\n",
       "stay_id             0  0.0\n",
       "first_careunit      0  0.0\n",
       "last_careunit       0  0.0\n",
       "intime              0  0.0\n",
       "outtime             0  0.0\n",
       "los                 0  0.0"
      ]
     },
     "execution_count": 33,
     "metadata": {},
     "output_type": "execute_result"
    }
   ],
   "source": [
    "missing = pd.concat([icustays.isnull().sum(), 100 * icustays.isnull().mean()], axis=1)\n",
    "missing.columns=['count', '%']\n",
    "missing.sort_values(by='count', ascending=False)"
   ]
  },
  {
   "cell_type": "markdown",
   "id": "aaed3849",
   "metadata": {},
   "source": [
    "There are no missing values."
   ]
  },
  {
   "cell_type": "code",
   "execution_count": 42,
   "id": "2b70a778",
   "metadata": {},
   "outputs": [
    {
     "name": "stdout",
     "output_type": "stream",
     "text": [
      "<class 'pandas.core.frame.DataFrame'>\n",
      "RangeIndex: 73181 entries, 0 to 73180\n",
      "Data columns (total 8 columns):\n",
      " #   Column          Non-Null Count  Dtype  \n",
      "---  ------          --------------  -----  \n",
      " 0   subject_id      73181 non-null  int64  \n",
      " 1   hadm_id         73181 non-null  int64  \n",
      " 2   stay_id         73181 non-null  int64  \n",
      " 3   first_careunit  73181 non-null  object \n",
      " 4   last_careunit   73181 non-null  object \n",
      " 5   intime          73181 non-null  object \n",
      " 6   outtime         73181 non-null  object \n",
      " 7   los             73181 non-null  float64\n",
      "dtypes: float64(1), int64(3), object(4)\n",
      "memory usage: 4.5+ MB\n"
     ]
    }
   ],
   "source": [
    "icustays.info()"
   ]
  },
  {
   "cell_type": "code",
   "execution_count": 54,
   "id": "be883d0c",
   "metadata": {
    "scrolled": true
   },
   "outputs": [
    {
     "data": {
      "text/html": [
       "<div>\n",
       "<style scoped>\n",
       "    .dataframe tbody tr th:only-of-type {\n",
       "        vertical-align: middle;\n",
       "    }\n",
       "\n",
       "    .dataframe tbody tr th {\n",
       "        vertical-align: top;\n",
       "    }\n",
       "\n",
       "    .dataframe thead th {\n",
       "        text-align: right;\n",
       "    }\n",
       "</style>\n",
       "<table border=\"1\" class=\"dataframe\">\n",
       "  <thead>\n",
       "    <tr style=\"text-align: right;\">\n",
       "      <th></th>\n",
       "      <th>subject_id</th>\n",
       "      <th>hadm_id</th>\n",
       "      <th>stay_id</th>\n",
       "      <th>los</th>\n",
       "    </tr>\n",
       "  </thead>\n",
       "  <tbody>\n",
       "    <tr>\n",
       "      <th>count</th>\n",
       "      <td>7.318100e+04</td>\n",
       "      <td>7.318100e+04</td>\n",
       "      <td>7.318100e+04</td>\n",
       "      <td>73181.000000</td>\n",
       "    </tr>\n",
       "    <tr>\n",
       "      <th>mean</th>\n",
       "      <td>1.499819e+07</td>\n",
       "      <td>2.498133e+07</td>\n",
       "      <td>3.499274e+07</td>\n",
       "      <td>3.451931</td>\n",
       "    </tr>\n",
       "    <tr>\n",
       "      <th>std</th>\n",
       "      <td>2.886067e+06</td>\n",
       "      <td>2.884400e+06</td>\n",
       "      <td>2.889261e+06</td>\n",
       "      <td>4.922840</td>\n",
       "    </tr>\n",
       "    <tr>\n",
       "      <th>min</th>\n",
       "      <td>1.000003e+07</td>\n",
       "      <td>2.000009e+07</td>\n",
       "      <td>3.000015e+07</td>\n",
       "      <td>0.001250</td>\n",
       "    </tr>\n",
       "    <tr>\n",
       "      <th>25%</th>\n",
       "      <td>1.249126e+07</td>\n",
       "      <td>2.248335e+07</td>\n",
       "      <td>3.248935e+07</td>\n",
       "      <td>1.084225</td>\n",
       "    </tr>\n",
       "    <tr>\n",
       "      <th>50%</th>\n",
       "      <td>1.499894e+07</td>\n",
       "      <td>2.496964e+07</td>\n",
       "      <td>3.499389e+07</td>\n",
       "      <td>1.926782</td>\n",
       "    </tr>\n",
       "    <tr>\n",
       "      <th>75%</th>\n",
       "      <td>1.751327e+07</td>\n",
       "      <td>2.747180e+07</td>\n",
       "      <td>3.748840e+07</td>\n",
       "      <td>3.713322</td>\n",
       "    </tr>\n",
       "    <tr>\n",
       "      <th>max</th>\n",
       "      <td>1.999999e+07</td>\n",
       "      <td>2.999983e+07</td>\n",
       "      <td>3.999981e+07</td>\n",
       "      <td>110.232280</td>\n",
       "    </tr>\n",
       "  </tbody>\n",
       "</table>\n",
       "</div>"
      ],
      "text/plain": [
       "         subject_id       hadm_id       stay_id           los\n",
       "count  7.318100e+04  7.318100e+04  7.318100e+04  73181.000000\n",
       "mean   1.499819e+07  2.498133e+07  3.499274e+07      3.451931\n",
       "std    2.886067e+06  2.884400e+06  2.889261e+06      4.922840\n",
       "min    1.000003e+07  2.000009e+07  3.000015e+07      0.001250\n",
       "25%    1.249126e+07  2.248335e+07  3.248935e+07      1.084225\n",
       "50%    1.499894e+07  2.496964e+07  3.499389e+07      1.926782\n",
       "75%    1.751327e+07  2.747180e+07  3.748840e+07      3.713322\n",
       "max    1.999999e+07  2.999983e+07  3.999981e+07    110.232280"
      ]
     },
     "execution_count": 54,
     "metadata": {},
     "output_type": "execute_result"
    }
   ],
   "source": [
    "icustays.describe()"
   ]
  },
  {
   "cell_type": "markdown",
   "id": "ae877383",
   "metadata": {},
   "source": [
    "___________________________________________________________________________"
   ]
  },
  {
   "cell_type": "code",
   "execution_count": 87,
   "id": "53707fa7",
   "metadata": {},
   "outputs": [
    {
     "data": {
      "text/plain": [
       "Index(['subject_id', 'hadm_id', 'stay_id', 'first_careunit', 'last_careunit',\n",
       "       'intime', 'outtime', 'los'],\n",
       "      dtype='object')"
      ]
     },
     "execution_count": 87,
     "metadata": {},
     "output_type": "execute_result"
    }
   ],
   "source": [
    "icustays.keys()"
   ]
  },
  {
   "cell_type": "markdown",
   "id": "0823c1bf",
   "metadata": {},
   "source": [
    "FIRST_CAREUNIT and LAST_CAREUNIT contain, respectively, the first and last ICU type in which the patient was cared for. As an stay_id groups all ICU admissions within 24 hours of each other, it is possible for a patient to be transferred from one type of ICU to another and have the same stay_id."
   ]
  },
  {
   "cell_type": "code",
   "execution_count": 88,
   "id": "bcbfecfe",
   "metadata": {},
   "outputs": [
    {
     "data": {
      "text/plain": [
       "array(['Medical Intensive Care Unit (MICU)',\n",
       "       'Surgical Intensive Care Unit (SICU)',\n",
       "       'Medical/Surgical Intensive Care Unit (MICU/SICU)',\n",
       "       'Cardiac Vascular Intensive Care Unit (CVICU)',\n",
       "       'Coronary Care Unit (CCU)', 'Neuro Intermediate',\n",
       "       'Trauma SICU (TSICU)', 'Neuro Stepdown',\n",
       "       'Neuro Surgical Intensive Care Unit (Neuro SICU)'], dtype=object)"
      ]
     },
     "execution_count": 88,
     "metadata": {},
     "output_type": "execute_result"
    }
   ],
   "source": [
    "icustays['first_careunit'].unique()"
   ]
  },
  {
   "cell_type": "code",
   "execution_count": 90,
   "id": "990fe6b4",
   "metadata": {},
   "outputs": [],
   "source": [
    "# Converting different categories of first care unit into ICU and NICU groups\n",
    "icustays['first_careunit'].replace({'Coronary Care Unit (CCU)': 'ICU',\n",
    "                                  'Neuro Stepdown': 'NICU',\n",
    "                                  'Neuro Intermediate': 'NICU',\n",
    "                                  'Cardiac Vascular Intensive Care Unit (CVICU)': \"ICU\",\n",
    "                                  'Neuro Surgical Intensive Care Unit (Neuro SICU)': 'ICU',\n",
    "                                  'Medical/Surgical Intensive Care Unit (MICU/SICU)': 'ICU',\n",
    "                                  'Medical Intensive Care Unit (MICU)': 'ICU',\n",
    "                                  'Surgical Intensive Care Unit (SICU)': 'ICU',\n",
    "                                  'Trauma SICU (TSICU)': 'ICU'}, inplace=True)"
   ]
  },
  {
   "cell_type": "code",
   "execution_count": 95,
   "id": "4f76e887",
   "metadata": {},
   "outputs": [
    {
     "data": {
      "text/plain": [
       "ICU     70139\n",
       "NICU     3042\n",
       "Name: first_careunit, dtype: int64"
      ]
     },
     "execution_count": 95,
     "metadata": {},
     "output_type": "execute_result"
    }
   ],
   "source": [
    "icustays['cat'] = icustays['first_careunit']\n",
    "icu_list = icustays.groupby('hadm_id')['cat'].apply(list).reset_index()\n",
    "\n",
    "icustays['first_careunit'].value_counts()"
   ]
  },
  {
   "cell_type": "markdown",
   "id": "b3fc1cee",
   "metadata": {},
   "source": [
    "#### Diagnosis ICD table\n",
    "Billed ICD-9/ICD-10 diagnoses for hospitalizations.\n",
    "diagnoses_icd\n",
    "\n",
    "During routine hospital care, patients are billed by the hospital for diagnoses associated with their hospital stay. This table contains a record of all diagnoses a patient was billed for during their hospital stay using the ICD-9 and ICD-10 ontologies. Diagnoses are billed on hospital discharge, and are determined by trained persons who read signed clinical notes."
   ]
  },
  {
   "cell_type": "code",
   "execution_count": 23,
   "id": "f959c891",
   "metadata": {},
   "outputs": [],
   "source": [
    "# Diagnosis for each admission to the hospi\n",
    "diagnoses_icd = pd.read_csv('mimiciv/2.0/hosp/diagnoses_icd.csv.gz')"
   ]
  },
  {
   "cell_type": "code",
   "execution_count": 24,
   "id": "c240bd05",
   "metadata": {
    "scrolled": true
   },
   "outputs": [
    {
     "data": {
      "text/html": [
       "<div>\n",
       "<style scoped>\n",
       "    .dataframe tbody tr th:only-of-type {\n",
       "        vertical-align: middle;\n",
       "    }\n",
       "\n",
       "    .dataframe tbody tr th {\n",
       "        vertical-align: top;\n",
       "    }\n",
       "\n",
       "    .dataframe thead th {\n",
       "        text-align: right;\n",
       "    }\n",
       "</style>\n",
       "<table border=\"1\" class=\"dataframe\">\n",
       "  <thead>\n",
       "    <tr style=\"text-align: right;\">\n",
       "      <th></th>\n",
       "      <th>subject_id</th>\n",
       "      <th>hadm_id</th>\n",
       "      <th>seq_num</th>\n",
       "      <th>icd_code</th>\n",
       "      <th>icd_version</th>\n",
       "    </tr>\n",
       "  </thead>\n",
       "  <tbody>\n",
       "    <tr>\n",
       "      <th>0</th>\n",
       "      <td>10000032</td>\n",
       "      <td>22595853</td>\n",
       "      <td>1</td>\n",
       "      <td>5723</td>\n",
       "      <td>9</td>\n",
       "    </tr>\n",
       "    <tr>\n",
       "      <th>1</th>\n",
       "      <td>10000032</td>\n",
       "      <td>22595853</td>\n",
       "      <td>2</td>\n",
       "      <td>78959</td>\n",
       "      <td>9</td>\n",
       "    </tr>\n",
       "    <tr>\n",
       "      <th>2</th>\n",
       "      <td>10000032</td>\n",
       "      <td>22595853</td>\n",
       "      <td>3</td>\n",
       "      <td>5715</td>\n",
       "      <td>9</td>\n",
       "    </tr>\n",
       "    <tr>\n",
       "      <th>3</th>\n",
       "      <td>10000032</td>\n",
       "      <td>22595853</td>\n",
       "      <td>4</td>\n",
       "      <td>07070</td>\n",
       "      <td>9</td>\n",
       "    </tr>\n",
       "    <tr>\n",
       "      <th>4</th>\n",
       "      <td>10000032</td>\n",
       "      <td>22595853</td>\n",
       "      <td>5</td>\n",
       "      <td>496</td>\n",
       "      <td>9</td>\n",
       "    </tr>\n",
       "  </tbody>\n",
       "</table>\n",
       "</div>"
      ],
      "text/plain": [
       "   subject_id   hadm_id  seq_num icd_code  icd_version\n",
       "0    10000032  22595853        1     5723            9\n",
       "1    10000032  22595853        2    78959            9\n",
       "2    10000032  22595853        3     5715            9\n",
       "3    10000032  22595853        4    07070            9\n",
       "4    10000032  22595853        5      496            9"
      ]
     },
     "execution_count": 24,
     "metadata": {},
     "output_type": "execute_result"
    }
   ],
   "source": [
    "diagnoses_icd.head()"
   ]
  },
  {
   "cell_type": "code",
   "execution_count": 104,
   "id": "e1218747",
   "metadata": {},
   "outputs": [
    {
     "name": "stdout",
     "output_type": "stream",
     "text": [
      "Dataset has 430852 number of unique admission events.\n",
      "Dataset has 180640 number of unique patients.\n"
     ]
    }
   ],
   "source": [
    "# Unique admission events\n",
    "print('Dataset has {} number of unique admission events.'.format(diagnoses_icd['hadm_id'].nunique()))\n",
    "\n",
    "# Unique patients\n",
    "print('Dataset has {} number of unique patients.'.format(diagnoses_icd['subject_id'].nunique()))"
   ]
  },
  {
   "cell_type": "code",
   "execution_count": 107,
   "id": "b2ee4cc1",
   "metadata": {},
   "outputs": [
    {
     "data": {
      "text/plain": [
       "True"
      ]
     },
     "execution_count": 107,
     "metadata": {},
     "output_type": "execute_result"
    }
   ],
   "source": [
    "diagnoses_icd['hadm_id'].duplicated().any()"
   ]
  },
  {
   "cell_type": "code",
   "execution_count": 106,
   "id": "931beb10",
   "metadata": {},
   "outputs": [
    {
     "data": {
      "text/plain": [
       "True"
      ]
     },
     "execution_count": 106,
     "metadata": {},
     "output_type": "execute_result"
    }
   ],
   "source": [
    "diagnoses_icd['subject_id'].duplicated().any()"
   ]
  },
  {
   "cell_type": "markdown",
   "id": "3160505a",
   "metadata": {},
   "source": [
    "There will be, at times, multiple diagnoses for one patient. "
   ]
  },
  {
   "cell_type": "markdown",
   "id": "1482d42e",
   "metadata": {},
   "source": [
    "##### Number of missing values by column"
   ]
  },
  {
   "cell_type": "code",
   "execution_count": 35,
   "id": "768b2140",
   "metadata": {},
   "outputs": [
    {
     "data": {
      "text/html": [
       "<div>\n",
       "<style scoped>\n",
       "    .dataframe tbody tr th:only-of-type {\n",
       "        vertical-align: middle;\n",
       "    }\n",
       "\n",
       "    .dataframe tbody tr th {\n",
       "        vertical-align: top;\n",
       "    }\n",
       "\n",
       "    .dataframe thead th {\n",
       "        text-align: right;\n",
       "    }\n",
       "</style>\n",
       "<table border=\"1\" class=\"dataframe\">\n",
       "  <thead>\n",
       "    <tr style=\"text-align: right;\">\n",
       "      <th></th>\n",
       "      <th>count</th>\n",
       "      <th>%</th>\n",
       "    </tr>\n",
       "  </thead>\n",
       "  <tbody>\n",
       "    <tr>\n",
       "      <th>subject_id</th>\n",
       "      <td>0</td>\n",
       "      <td>0.0</td>\n",
       "    </tr>\n",
       "    <tr>\n",
       "      <th>hadm_id</th>\n",
       "      <td>0</td>\n",
       "      <td>0.0</td>\n",
       "    </tr>\n",
       "    <tr>\n",
       "      <th>seq_num</th>\n",
       "      <td>0</td>\n",
       "      <td>0.0</td>\n",
       "    </tr>\n",
       "    <tr>\n",
       "      <th>icd_code</th>\n",
       "      <td>0</td>\n",
       "      <td>0.0</td>\n",
       "    </tr>\n",
       "    <tr>\n",
       "      <th>icd_version</th>\n",
       "      <td>0</td>\n",
       "      <td>0.0</td>\n",
       "    </tr>\n",
       "  </tbody>\n",
       "</table>\n",
       "</div>"
      ],
      "text/plain": [
       "             count    %\n",
       "subject_id       0  0.0\n",
       "hadm_id          0  0.0\n",
       "seq_num          0  0.0\n",
       "icd_code         0  0.0\n",
       "icd_version      0  0.0"
      ]
     },
     "execution_count": 35,
     "metadata": {},
     "output_type": "execute_result"
    }
   ],
   "source": [
    "missing = pd.concat([diagnoses_icd.isnull().sum(), 100 * diagnoses_icd.isnull().mean()], axis=1)\n",
    "missing.columns=['count', '%']\n",
    "missing.sort_values(by='count', ascending=False)"
   ]
  },
  {
   "cell_type": "markdown",
   "id": "7882bea4",
   "metadata": {},
   "source": [
    "There are no missing values."
   ]
  },
  {
   "cell_type": "code",
   "execution_count": 43,
   "id": "016306b4",
   "metadata": {},
   "outputs": [
    {
     "name": "stdout",
     "output_type": "stream",
     "text": [
      "<class 'pandas.core.frame.DataFrame'>\n",
      "RangeIndex: 4756326 entries, 0 to 4756325\n",
      "Data columns (total 5 columns):\n",
      " #   Column       Dtype \n",
      "---  ------       ----- \n",
      " 0   subject_id   int64 \n",
      " 1   hadm_id      int64 \n",
      " 2   seq_num      int64 \n",
      " 3   icd_code     object\n",
      " 4   icd_version  int64 \n",
      "dtypes: int64(4), object(1)\n",
      "memory usage: 181.4+ MB\n"
     ]
    }
   ],
   "source": [
    "diagnoses_icd.info()"
   ]
  },
  {
   "cell_type": "markdown",
   "id": "c3076641",
   "metadata": {},
   "source": [
    "This table should be recoded on a categorical basis to help in predicting lenght of stay. This will be done later."
   ]
  },
  {
   "cell_type": "code",
   "execution_count": null,
   "id": "db1295cc",
   "metadata": {},
   "outputs": [],
   "source": []
  }
 ],
 "metadata": {
  "kernelspec": {
   "display_name": "Python 3 (ipykernel)",
   "language": "python",
   "name": "python3"
  },
  "language_info": {
   "codemirror_mode": {
    "name": "ipython",
    "version": 3
   },
   "file_extension": ".py",
   "mimetype": "text/x-python",
   "name": "python",
   "nbconvert_exporter": "python",
   "pygments_lexer": "ipython3",
   "version": "3.9.13"
  }
 },
 "nbformat": 4,
 "nbformat_minor": 5
}
