{
 "cells": [
  {
   "cell_type": "markdown",
   "id": "042af8a6",
   "metadata": {},
   "source": [
    "# Data Wrangling"
   ]
  },
  {
   "cell_type": "markdown",
   "id": "fd9d7bd0",
   "metadata": {},
   "source": [
    "## Introduction"
   ]
  },
  {
   "cell_type": "markdown",
   "id": "4a2f5545",
   "metadata": {},
   "source": [
    "The present goal is to collect data from the MIMIC-IV dataset, organize it, and make sure it is well defined. Some data cleaning will be done at this stage."
   ]
  },
  {
   "cell_type": "markdown",
   "id": "0e81dd4a",
   "metadata": {},
   "source": [
    "### Recap of Data Science Problem"
   ]
  },
  {
   "cell_type": "markdown",
   "id": "5bb9bbc2",
   "metadata": {},
   "source": [
    "The hospital wants to identify patients with longer and shorter lengths of stay to allocate resources more effectively. Target population will be identified and actionable steps will be measured to see impact on overall length of stay."
   ]
  },
  {
   "cell_type": "markdown",
   "id": "75c8bc18",
   "metadata": {},
   "source": [
    "The hospital is experiencing an unprecedented level of demand for beds. As such, they are experiencing an over-crowding issue. Presently, they would like to explore factors that influence length of stay to later explore the strategic issue that is reducing length of stay. What is currently needed is a diagnostic tool to identify the factors influencing length of stay. They want to provide exactly the care needed by an individual the moment they need it. But the moment they don’t need it, resource utilization plummets. Complaints during this transition period edge up consuming clinical attention that could be better spent elsewhere. In addition, the risks of hospital-acquired infections, falls and other adverse reactions also increase during this period. The most pressing financial issue is patient throughput. The faster you can get a patient out of their high-acuity bed and onto the next level of care, the better, as that means the next patient can take their place more quickly. Getting patients in and out of the hospital efficiently is a way to keep your revenue model churning. Having a predictive model of length of stay will help clinical staff triage more efficiently and form a consistent care process to get patients to a more appropriate acuity level quickly keeping bed turnover as high as possible. "
   ]
  },
  {
   "cell_type": "markdown",
   "id": "47a07846",
   "metadata": {},
   "source": [
    "We wish to establish a standard measurable to predict length of stay from which to manipulate to see a decrease in length of stay. Some potential manipulations include but are not limited to: "
   ]
  },
  {
   "cell_type": "markdown",
   "id": "8532164b",
   "metadata": {},
   "source": [
    "possible manipulations to be determined."
   ]
  },
  {
   "cell_type": "markdown",
   "id": "19770372",
   "metadata": {},
   "source": [
    "The scope of the solution space is limited to changes that will support shorter length of stay. Constraints include missing data regarding workflows presently in place."
   ]
  },
  {
   "cell_type": "code",
   "execution_count": 26,
   "id": "b9bb3e78",
   "metadata": {},
   "outputs": [],
   "source": [
    "import ipywidgets as widgets\n",
    "import sys\n",
    "from pathlib import Path\n",
    "import os\n",
    "import importlib\n",
    "import pandas as pd\n",
    "import matplotlib.pyplot as plt"
   ]
  },
  {
   "cell_type": "markdown",
   "id": "b323d611",
   "metadata": {},
   "source": [
    "## To predict length of stay, the admissions, patients, icustays, and diagnosis_ICD tables."
   ]
  },
  {
   "cell_type": "markdown",
   "id": "df023159",
   "metadata": {},
   "source": [
    "### MIMIC-IV hosp and icu data:"
   ]
  },
  {
   "cell_type": "code",
   "execution_count": 27,
   "id": "0e3acd42",
   "metadata": {
    "scrolled": true
   },
   "outputs": [
    {
     "name": "stdout",
     "output_type": "stream",
     "text": [
      
     ]
    }
   ],
   "source": [
    "import os\n",
    "\n",
    "cwd = os.getcwd()  # Get the current working directory (cwd)\n",
    "files = os.listdir(cwd)  # Get all the files in that directory\n",
    "print(\"Files in %r: %s\" % (cwd, files))"
   ]
  },
  {
   "cell_type": "markdown",
   "id": "2c88566a",
   "metadata": {},
   "source": [
    "#### Admissions table"
   ]
  },
  {
   "cell_type": "markdown",
   "id": "96f37874",
   "metadata": {},
   "source": [
    "The admissions table gives information regarding a patient’s admission to the hospital. Since each unique hospital visit for a patient is assigned a unique hadm_id, the admissions table can be considered as a definition table for hadm_id. Information available includes timing information for admission and discharge, demographic information, the source of the admission, and so on.<br> \n",
    "\n",
    "Links to:<br> patients on subject_id\n",
    "<br>\n",
    "\n",
    "**interested in the subject id (patient), hadm id (admission event), admission type, admit time and discharge time.**"
   ]
  },
  {
   "cell_type": "code",
   "execution_count": 28,
   "id": "f6a5045d",
   "metadata": {},
   "outputs": [],
   "source": [
    "admissions = pd.read_csv('mimiciv/2.0/hosp/admissions.csv.gz')"
   ]
  },
  {
   "cell_type": "code",
   "execution_count": 29,
   "id": "1ec620b1",
   "metadata": {
    "scrolled": false
   },
   "outputs": [
    {
     "data": {
      "text/html": [
       "<div>\n",
       "<style scoped>\n",
       "    .dataframe tbody tr th:only-of-type {\n",
       "        vertical-align: middle;\n",
       "    }\n",
       "\n",
       "    .dataframe tbody tr th {\n",
       "        vertical-align: top;\n",
       "    }\n",
       "\n",
       "    .dataframe thead th {\n",
       "        text-align: right;\n",
       "    }\n",
       "</style>\n",
       "<table border=\"1\" class=\"dataframe\">\n",
       "  <thead>\n",
       "    <tr style=\"text-align: right;\">\n",
       "      <th></th>\n",
       "      <th>subject_id</th>\n",
       "      <th>hadm_id</th>\n",
       "      <th>admittime</th>\n",
       "      <th>dischtime</th>\n",
       "      <th>deathtime</th>\n",
       "      <th>admission_type</th>\n",
       "      <th>admit_provider_id</th>\n",
       "      <th>admission_location</th>\n",
       "      <th>discharge_location</th>\n",
       "      <th>insurance</th>\n",
       "      <th>language</th>\n",
       "      <th>marital_status</th>\n",
       "      <th>race</th>\n",
       "      <th>edregtime</th>\n",
       "      <th>edouttime</th>\n",
       "      <th>hospital_expire_flag</th>\n",
       "    </tr>\n",
       "  </thead>\n",
       "  <tbody>\n",
       "    <tr>\n",
       "      <th>0</th>\n",
       "      <td>10000032</td>\n",
       "      <td>22595853</td>\n",
       "      <td>2180-05-06 22:23:00</td>\n",
       "      <td>2180-05-07 17:15:00</td>\n",
       "      <td>NaN</td>\n",
       "      <td>URGENT</td>\n",
       "      <td>P874LG</td>\n",
       "      <td>TRANSFER FROM HOSPITAL</td>\n",
       "      <td>HOME</td>\n",
       "      <td>Other</td>\n",
       "      <td>ENGLISH</td>\n",
       "      <td>WIDOWED</td>\n",
       "      <td>WHITE</td>\n",
       "      <td>2180-05-06 19:17:00</td>\n",
       "      <td>2180-05-06 23:30:00</td>\n",
       "      <td>0</td>\n",
       "    </tr>\n",
       "    <tr>\n",
       "      <th>1</th>\n",
       "      <td>10000032</td>\n",
       "      <td>22841357</td>\n",
       "      <td>2180-06-26 18:27:00</td>\n",
       "      <td>2180-06-27 18:49:00</td>\n",
       "      <td>NaN</td>\n",
       "      <td>EW EMER.</td>\n",
       "      <td>P09Q6Y</td>\n",
       "      <td>EMERGENCY ROOM</td>\n",
       "      <td>HOME</td>\n",
       "      <td>Medicaid</td>\n",
       "      <td>ENGLISH</td>\n",
       "      <td>WIDOWED</td>\n",
       "      <td>WHITE</td>\n",
       "      <td>2180-06-26 15:54:00</td>\n",
       "      <td>2180-06-26 21:31:00</td>\n",
       "      <td>0</td>\n",
       "    </tr>\n",
       "    <tr>\n",
       "      <th>2</th>\n",
       "      <td>10000032</td>\n",
       "      <td>25742920</td>\n",
       "      <td>2180-08-05 23:44:00</td>\n",
       "      <td>2180-08-07 17:50:00</td>\n",
       "      <td>NaN</td>\n",
       "      <td>EW EMER.</td>\n",
       "      <td>P60CC5</td>\n",
       "      <td>EMERGENCY ROOM</td>\n",
       "      <td>HOSPICE</td>\n",
       "      <td>Medicaid</td>\n",
       "      <td>ENGLISH</td>\n",
       "      <td>WIDOWED</td>\n",
       "      <td>WHITE</td>\n",
       "      <td>2180-08-05 20:58:00</td>\n",
       "      <td>2180-08-06 01:44:00</td>\n",
       "      <td>0</td>\n",
       "    </tr>\n",
       "    <tr>\n",
       "      <th>3</th>\n",
       "      <td>10000032</td>\n",
       "      <td>29079034</td>\n",
       "      <td>2180-07-23 12:35:00</td>\n",
       "      <td>2180-07-25 17:55:00</td>\n",
       "      <td>NaN</td>\n",
       "      <td>EW EMER.</td>\n",
       "      <td>P30KEH</td>\n",
       "      <td>EMERGENCY ROOM</td>\n",
       "      <td>HOME</td>\n",
       "      <td>Medicaid</td>\n",
       "      <td>ENGLISH</td>\n",
       "      <td>WIDOWED</td>\n",
       "      <td>WHITE</td>\n",
       "      <td>2180-07-23 05:54:00</td>\n",
       "      <td>2180-07-23 14:00:00</td>\n",
       "      <td>0</td>\n",
       "    </tr>\n",
       "    <tr>\n",
       "      <th>4</th>\n",
       "      <td>10000068</td>\n",
       "      <td>25022803</td>\n",
       "      <td>2160-03-03 23:16:00</td>\n",
       "      <td>2160-03-04 06:26:00</td>\n",
       "      <td>NaN</td>\n",
       "      <td>EU OBSERVATION</td>\n",
       "      <td>P51VDL</td>\n",
       "      <td>EMERGENCY ROOM</td>\n",
       "      <td>NaN</td>\n",
       "      <td>Other</td>\n",
       "      <td>ENGLISH</td>\n",
       "      <td>SINGLE</td>\n",
       "      <td>WHITE</td>\n",
       "      <td>2160-03-03 21:55:00</td>\n",
       "      <td>2160-03-04 06:26:00</td>\n",
       "      <td>0</td>\n",
       "    </tr>\n",
       "  </tbody>\n",
       "</table>\n",
       "</div>"
      ],
      "text/plain": [
       "   subject_id   hadm_id            admittime            dischtime deathtime  \\\n",
       "0    10000032  22595853  2180-05-06 22:23:00  2180-05-07 17:15:00       NaN   \n",
       "1    10000032  22841357  2180-06-26 18:27:00  2180-06-27 18:49:00       NaN   \n",
       "2    10000032  25742920  2180-08-05 23:44:00  2180-08-07 17:50:00       NaN   \n",
       "3    10000032  29079034  2180-07-23 12:35:00  2180-07-25 17:55:00       NaN   \n",
       "4    10000068  25022803  2160-03-03 23:16:00  2160-03-04 06:26:00       NaN   \n",
       "\n",
       "   admission_type admit_provider_id      admission_location  \\\n",
       "0          URGENT            P874LG  TRANSFER FROM HOSPITAL   \n",
       "1        EW EMER.            P09Q6Y          EMERGENCY ROOM   \n",
       "2        EW EMER.            P60CC5          EMERGENCY ROOM   \n",
       "3        EW EMER.            P30KEH          EMERGENCY ROOM   \n",
       "4  EU OBSERVATION            P51VDL          EMERGENCY ROOM   \n",
       "\n",
       "  discharge_location insurance language marital_status   race  \\\n",
       "0               HOME     Other  ENGLISH        WIDOWED  WHITE   \n",
       "1               HOME  Medicaid  ENGLISH        WIDOWED  WHITE   \n",
       "2            HOSPICE  Medicaid  ENGLISH        WIDOWED  WHITE   \n",
       "3               HOME  Medicaid  ENGLISH        WIDOWED  WHITE   \n",
       "4                NaN     Other  ENGLISH         SINGLE  WHITE   \n",
       "\n",
       "             edregtime            edouttime  hospital_expire_flag  \n",
       "0  2180-05-06 19:17:00  2180-05-06 23:30:00                     0  \n",
       "1  2180-06-26 15:54:00  2180-06-26 21:31:00                     0  \n",
       "2  2180-08-05 20:58:00  2180-08-06 01:44:00                     0  \n",
       "3  2180-07-23 05:54:00  2180-07-23 14:00:00                     0  \n",
       "4  2160-03-03 21:55:00  2160-03-04 06:26:00                     0  "
      ]
     },
     "execution_count": 29,
     "metadata": {},
     "output_type": "execute_result"
    }
   ],
   "source": [
    "admissions.head()"
   ]
  },
  {
   "cell_type": "code",
   "execution_count": 30,
   "id": "a6fbd6f7",
   "metadata": {},
   "outputs": [
    {
     "name": "stdout",
     "output_type": "stream",
     "text": [
      "Dataset has 431231 number of unique admission events.\n",
      "Dataset has 180733 number of unique patients.\n"
     ]
    }
   ],
   "source": [
    "# Unique admission events\n",
    "print('Dataset has {} number of unique admission events.'.format(admissions['hadm_id'].nunique()))\n",
    "\n",
    "# Unique patients\n",
    "print('Dataset has {} number of unique patients.'.format(admissions['subject_id'].nunique()))"
   ]
  },
  {
   "cell_type": "markdown",
   "id": "4e07550a",
   "metadata": {},
   "source": [
    "**This means we have quite a few repeat visitors. We should merge on admission events (hadm_id) later on to avoid analysis on the same patient encounter.**"
   ]
  },
  {
   "cell_type": "code",
   "execution_count": 31,
   "id": "a137ff51",
   "metadata": {},
   "outputs": [
    {
     "data": {
      "text/plain": [
       "False"
      ]
     },
     "execution_count": 31,
     "metadata": {},
     "output_type": "execute_result"
    }
   ],
   "source": [
    "admissions['hadm_id'].duplicated().any()"
   ]
  },
  {
   "cell_type": "markdown",
   "id": "7cb4a710",
   "metadata": {},
   "source": [
    "##### Number of missing values by column"
   ]
  },
  {
   "cell_type": "code",
   "execution_count": 32,
   "id": "0b03d79c",
   "metadata": {},
   "outputs": [
    {
     "data": {
      "text/html": [
       "<div>\n",
       "<style scoped>\n",
       "    .dataframe tbody tr th:only-of-type {\n",
       "        vertical-align: middle;\n",
       "    }\n",
       "\n",
       "    .dataframe tbody tr th {\n",
       "        vertical-align: top;\n",
       "    }\n",
       "\n",
       "    .dataframe thead th {\n",
       "        text-align: right;\n",
       "    }\n",
       "</style>\n",
       "<table border=\"1\" class=\"dataframe\">\n",
       "  <thead>\n",
       "    <tr style=\"text-align: right;\">\n",
       "      <th></th>\n",
       "      <th>count</th>\n",
       "      <th>%</th>\n",
       "    </tr>\n",
       "  </thead>\n",
       "  <tbody>\n",
       "    <tr>\n",
       "      <th>deathtime</th>\n",
       "      <td>422633</td>\n",
       "      <td>98.006173</td>\n",
       "    </tr>\n",
       "    <tr>\n",
       "      <th>edregtime</th>\n",
       "      <td>131949</td>\n",
       "      <td>30.598218</td>\n",
       "    </tr>\n",
       "    <tr>\n",
       "      <th>edouttime</th>\n",
       "      <td>131949</td>\n",
       "      <td>30.598218</td>\n",
       "    </tr>\n",
       "    <tr>\n",
       "      <th>discharge_location</th>\n",
       "      <td>119155</td>\n",
       "      <td>27.631362</td>\n",
       "    </tr>\n",
       "    <tr>\n",
       "      <th>marital_status</th>\n",
       "      <td>9233</td>\n",
       "      <td>2.141080</td>\n",
       "    </tr>\n",
       "    <tr>\n",
       "      <th>admit_provider_id</th>\n",
       "      <td>4</td>\n",
       "      <td>0.000928</td>\n",
       "    </tr>\n",
       "    <tr>\n",
       "      <th>subject_id</th>\n",
       "      <td>0</td>\n",
       "      <td>0.000000</td>\n",
       "    </tr>\n",
       "    <tr>\n",
       "      <th>hadm_id</th>\n",
       "      <td>0</td>\n",
       "      <td>0.000000</td>\n",
       "    </tr>\n",
       "    <tr>\n",
       "      <th>admittime</th>\n",
       "      <td>0</td>\n",
       "      <td>0.000000</td>\n",
       "    </tr>\n",
       "    <tr>\n",
       "      <th>dischtime</th>\n",
       "      <td>0</td>\n",
       "      <td>0.000000</td>\n",
       "    </tr>\n",
       "    <tr>\n",
       "      <th>admission_type</th>\n",
       "      <td>0</td>\n",
       "      <td>0.000000</td>\n",
       "    </tr>\n",
       "    <tr>\n",
       "      <th>admission_location</th>\n",
       "      <td>0</td>\n",
       "      <td>0.000000</td>\n",
       "    </tr>\n",
       "    <tr>\n",
       "      <th>insurance</th>\n",
       "      <td>0</td>\n",
       "      <td>0.000000</td>\n",
       "    </tr>\n",
       "    <tr>\n",
       "      <th>language</th>\n",
       "      <td>0</td>\n",
       "      <td>0.000000</td>\n",
       "    </tr>\n",
       "    <tr>\n",
       "      <th>race</th>\n",
       "      <td>0</td>\n",
       "      <td>0.000000</td>\n",
       "    </tr>\n",
       "    <tr>\n",
       "      <th>hospital_expire_flag</th>\n",
       "      <td>0</td>\n",
       "      <td>0.000000</td>\n",
       "    </tr>\n",
       "  </tbody>\n",
       "</table>\n",
       "</div>"
      ],
      "text/plain": [
       "                       count          %\n",
       "deathtime             422633  98.006173\n",
       "edregtime             131949  30.598218\n",
       "edouttime             131949  30.598218\n",
       "discharge_location    119155  27.631362\n",
       "marital_status          9233   2.141080\n",
       "admit_provider_id          4   0.000928\n",
       "subject_id                 0   0.000000\n",
       "hadm_id                    0   0.000000\n",
       "admittime                  0   0.000000\n",
       "dischtime                  0   0.000000\n",
       "admission_type             0   0.000000\n",
       "admission_location         0   0.000000\n",
       "insurance                  0   0.000000\n",
       "language                   0   0.000000\n",
       "race                       0   0.000000\n",
       "hospital_expire_flag       0   0.000000"
      ]
     },
     "execution_count": 32,
     "metadata": {},
     "output_type": "execute_result"
    }
   ],
   "source": [
    "missing = pd.concat([admissions.isnull().sum(), 100 * admissions.isnull().mean()], axis=1)\n",
    "missing.columns=['count', '%']\n",
    "missing.sort_values(by='count', ascending=False)"
   ]
  },
  {
   "cell_type": "markdown",
   "id": "543ead54",
   "metadata": {},
   "source": [
    "There are missing values in death time, edregtime, edouttime, discharge loctaion, and marital status columns."
   ]
  },
  {
   "cell_type": "code",
   "execution_count": 33,
   "id": "9c197646",
   "metadata": {},
   "outputs": [
    {
     "name": "stdout",
     "output_type": "stream",
     "text": [
      "<class 'pandas.core.frame.DataFrame'>\n",
      "RangeIndex: 431231 entries, 0 to 431230\n",
      "Data columns (total 16 columns):\n",
      " #   Column                Non-Null Count   Dtype \n",
      "---  ------                --------------   ----- \n",
      " 0   subject_id            431231 non-null  int64 \n",
      " 1   hadm_id               431231 non-null  int64 \n",
      " 2   admittime             431231 non-null  object\n",
      " 3   dischtime             431231 non-null  object\n",
      " 4   deathtime             8598 non-null    object\n",
      " 5   admission_type        431231 non-null  object\n",
      " 6   admit_provider_id     431227 non-null  object\n",
      " 7   admission_location    431231 non-null  object\n",
      " 8   discharge_location    312076 non-null  object\n",
      " 9   insurance             431231 non-null  object\n",
      " 10  language              431231 non-null  object\n",
      " 11  marital_status        421998 non-null  object\n",
      " 12  race                  431231 non-null  object\n",
      " 13  edregtime             299282 non-null  object\n",
      " 14  edouttime             299282 non-null  object\n",
      " 15  hospital_expire_flag  431231 non-null  int64 \n",
      "dtypes: int64(3), object(13)\n",
      "memory usage: 52.6+ MB\n"
     ]
    }
   ],
   "source": [
    "admissions.info()"
   ]
  },
  {
   "cell_type": "code",
   "execution_count": 34,
   "id": "7548f4b0",
   "metadata": {},
   "outputs": [
    {
     "data": {
      "text/plain": [
       "0        2180-05-07 17:15:00\n",
       "1        2180-06-27 18:49:00\n",
       "2        2180-08-07 17:50:00\n",
       "3        2180-07-25 17:55:00\n",
       "4        2160-03-04 06:26:00\n",
       "                 ...        \n",
       "431226   2149-01-18 17:00:00\n",
       "431227   2147-08-04 18:10:00\n",
       "431228   2164-09-17 13:42:00\n",
       "431229   2164-07-28 12:15:00\n",
       "431230   2145-11-11 12:57:00\n",
       "Name: dischtime, Length: 431231, dtype: datetime64[ns]"
      ]
     },
     "execution_count": 34,
     "metadata": {},
     "output_type": "execute_result"
    }
   ],
   "source": [
    "# Made admittime and dischtime datetime objects\n",
    "pd.to_datetime(admissions['admittime'])\n",
    "pd.to_datetime(admissions['dischtime'])"
   ]
  },
  {
   "cell_type": "code",
   "execution_count": 35,
   "id": "a128021f",
   "metadata": {},
   "outputs": [
    {
     "data": {
      "text/plain": [
       "count    431231.000000\n",
       "mean          4.483283\n",
       "std           6.626732\n",
       "min          -0.945139\n",
       "25%           1.070139\n",
       "50%           2.737500\n",
       "75%           5.241667\n",
       "max         295.988194\n",
       "Name: LOS, dtype: float64"
      ]
     },
     "execution_count": 35,
     "metadata": {},
     "output_type": "execute_result"
    }
   ],
   "source": [
    "# Calculate LOS\n",
    "# Convert admission and discharge times to datatime type\n",
    "admissions['ADMITTIME'] = pd.to_datetime(admissions['admittime'])\n",
    "admissions['DISCHTIME'] = pd.to_datetime(admissions['dischtime'])\n",
    "\n",
    "# Calculating the Length of Stay variable using the difference between Discharge time and Admit time \n",
    "# Convert timedelta type into float 'days'. Note: There are 86400 seconds in a day\n",
    "admissions['LOS'] = (admissions['DISCHTIME'] - admissions['ADMITTIME']).dt.total_seconds()/86400\n",
    "admissions['LOS'].describe()"
   ]
  },
  {
   "cell_type": "code",
   "execution_count": 60,
   "id": "d57bd25f",
   "metadata": {},
   "outputs": [
    {
     "data": {
      "text/html": [
       "<div>\n",
       "<style scoped>\n",
       "    .dataframe tbody tr th:only-of-type {\n",
       "        vertical-align: middle;\n",
       "    }\n",
       "\n",
       "    .dataframe tbody tr th {\n",
       "        vertical-align: top;\n",
       "    }\n",
       "\n",
       "    .dataframe thead th {\n",
       "        text-align: right;\n",
       "    }\n",
       "</style>\n",
       "<table border=\"1\" class=\"dataframe\">\n",
       "  <thead>\n",
       "    <tr style=\"text-align: right;\">\n",
       "      <th></th>\n",
       "      <th>subject_id</th>\n",
       "      <th>hadm_id</th>\n",
       "      <th>admittime</th>\n",
       "      <th>dischtime</th>\n",
       "      <th>deathtime</th>\n",
       "      <th>admission_type</th>\n",
       "      <th>admit_provider_id</th>\n",
       "      <th>admission_location</th>\n",
       "      <th>discharge_location</th>\n",
       "      <th>insurance</th>\n",
       "      <th>language</th>\n",
       "      <th>marital_status</th>\n",
       "      <th>race</th>\n",
       "      <th>edregtime</th>\n",
       "      <th>edouttime</th>\n",
       "      <th>hospital_expire_flag</th>\n",
       "      <th>ADMITTIME</th>\n",
       "      <th>DISCHTIME</th>\n",
       "      <th>LOS</th>\n",
       "    </tr>\n",
       "  </thead>\n",
       "  <tbody>\n",
       "    <tr>\n",
       "      <th>2101</th>\n",
       "      <td>10049642</td>\n",
       "      <td>26714941</td>\n",
       "      <td>2177-02-20 03:15:00</td>\n",
       "      <td>2177-02-20 02:30:00</td>\n",
       "      <td>2177-02-20 20:30:00</td>\n",
       "      <td>EW EMER.</td>\n",
       "      <td>P47KFL</td>\n",
       "      <td>EMERGENCY ROOM</td>\n",
       "      <td>DIED</td>\n",
       "      <td>Other</td>\n",
       "      <td>?</td>\n",
       "      <td>NaN</td>\n",
       "      <td>UNKNOWN</td>\n",
       "      <td>2177-02-20 01:15:00</td>\n",
       "      <td>2177-02-20 04:25:00</td>\n",
       "      <td>1</td>\n",
       "      <td>2177-02-20 03:15:00</td>\n",
       "      <td>2177-02-20 02:30:00</td>\n",
       "      <td>-0.031250</td>\n",
       "    </tr>\n",
       "    <tr>\n",
       "      <th>3115</th>\n",
       "      <td>10077373</td>\n",
       "      <td>23874669</td>\n",
       "      <td>2187-12-18 19:14:00</td>\n",
       "      <td>2187-12-18 12:22:00</td>\n",
       "      <td>NaN</td>\n",
       "      <td>DIRECT OBSERVATION</td>\n",
       "      <td>P48H5S</td>\n",
       "      <td>EMERGENCY ROOM</td>\n",
       "      <td>NaN</td>\n",
       "      <td>Medicare</td>\n",
       "      <td>ENGLISH</td>\n",
       "      <td>MARRIED</td>\n",
       "      <td>WHITE</td>\n",
       "      <td>2187-12-18 16:27:00</td>\n",
       "      <td>2187-12-19 12:59:00</td>\n",
       "      <td>0</td>\n",
       "      <td>2187-12-18 19:14:00</td>\n",
       "      <td>2187-12-18 12:22:00</td>\n",
       "      <td>-0.286111</td>\n",
       "    </tr>\n",
       "    <tr>\n",
       "      <th>5504</th>\n",
       "      <td>10136283</td>\n",
       "      <td>29334858</td>\n",
       "      <td>2163-03-01 20:43:00</td>\n",
       "      <td>2163-03-01 02:32:00</td>\n",
       "      <td>NaN</td>\n",
       "      <td>EU OBSERVATION</td>\n",
       "      <td>P48H5S</td>\n",
       "      <td>EMERGENCY ROOM</td>\n",
       "      <td>NaN</td>\n",
       "      <td>Other</td>\n",
       "      <td>ENGLISH</td>\n",
       "      <td>SINGLE</td>\n",
       "      <td>WHITE</td>\n",
       "      <td>2163-03-01 19:22:00</td>\n",
       "      <td>2163-03-02 00:39:00</td>\n",
       "      <td>0</td>\n",
       "      <td>2163-03-01 20:43:00</td>\n",
       "      <td>2163-03-01 02:32:00</td>\n",
       "      <td>-0.757639</td>\n",
       "    </tr>\n",
       "    <tr>\n",
       "      <th>11168</th>\n",
       "      <td>10270064</td>\n",
       "      <td>29192733</td>\n",
       "      <td>2175-01-30 11:30:00</td>\n",
       "      <td>2175-01-30 08:00:00</td>\n",
       "      <td>NaN</td>\n",
       "      <td>EW EMER.</td>\n",
       "      <td>P506DE</td>\n",
       "      <td>PACU</td>\n",
       "      <td>NaN</td>\n",
       "      <td>Other</td>\n",
       "      <td>ENGLISH</td>\n",
       "      <td>MARRIED</td>\n",
       "      <td>UNKNOWN</td>\n",
       "      <td>NaN</td>\n",
       "      <td>NaN</td>\n",
       "      <td>0</td>\n",
       "      <td>2175-01-30 11:30:00</td>\n",
       "      <td>2175-01-30 08:00:00</td>\n",
       "      <td>-0.145833</td>\n",
       "    </tr>\n",
       "    <tr>\n",
       "      <th>11211</th>\n",
       "      <td>10271174</td>\n",
       "      <td>26331353</td>\n",
       "      <td>2117-01-09 02:57:00</td>\n",
       "      <td>2117-01-09 02:19:00</td>\n",
       "      <td>2117-01-09 20:51:00</td>\n",
       "      <td>EW EMER.</td>\n",
       "      <td>P48KFD</td>\n",
       "      <td>EMERGENCY ROOM</td>\n",
       "      <td>DIED</td>\n",
       "      <td>Medicare</td>\n",
       "      <td>ENGLISH</td>\n",
       "      <td>NaN</td>\n",
       "      <td>UNKNOWN</td>\n",
       "      <td>2117-01-09 02:07:00</td>\n",
       "      <td>2117-01-09 06:24:00</td>\n",
       "      <td>1</td>\n",
       "      <td>2117-01-09 02:57:00</td>\n",
       "      <td>2117-01-09 02:19:00</td>\n",
       "      <td>-0.026389</td>\n",
       "    </tr>\n",
       "    <tr>\n",
       "      <th>...</th>\n",
       "      <td>...</td>\n",
       "      <td>...</td>\n",
       "      <td>...</td>\n",
       "      <td>...</td>\n",
       "      <td>...</td>\n",
       "      <td>...</td>\n",
       "      <td>...</td>\n",
       "      <td>...</td>\n",
       "      <td>...</td>\n",
       "      <td>...</td>\n",
       "      <td>...</td>\n",
       "      <td>...</td>\n",
       "      <td>...</td>\n",
       "      <td>...</td>\n",
       "      <td>...</td>\n",
       "      <td>...</td>\n",
       "      <td>...</td>\n",
       "      <td>...</td>\n",
       "      <td>...</td>\n",
       "    </tr>\n",
       "    <tr>\n",
       "      <th>426237</th>\n",
       "      <td>19887023</td>\n",
       "      <td>24942188</td>\n",
       "      <td>2128-11-12 09:54:00</td>\n",
       "      <td>2128-11-12 00:00:00</td>\n",
       "      <td>2128-11-12 20:45:00</td>\n",
       "      <td>EW EMER.</td>\n",
       "      <td>P3529J</td>\n",
       "      <td>EMERGENCY ROOM</td>\n",
       "      <td>DIED</td>\n",
       "      <td>Other</td>\n",
       "      <td>ENGLISH</td>\n",
       "      <td>MARRIED</td>\n",
       "      <td>WHITE</td>\n",
       "      <td>2128-11-12 06:47:00</td>\n",
       "      <td>2128-11-12 10:44:00</td>\n",
       "      <td>1</td>\n",
       "      <td>2128-11-12 09:54:00</td>\n",
       "      <td>2128-11-12 00:00:00</td>\n",
       "      <td>-0.412500</td>\n",
       "    </tr>\n",
       "    <tr>\n",
       "      <th>427007</th>\n",
       "      <td>19904685</td>\n",
       "      <td>24196469</td>\n",
       "      <td>2171-12-10 14:49:00</td>\n",
       "      <td>2171-12-10 00:00:00</td>\n",
       "      <td>2171-12-10 19:50:00</td>\n",
       "      <td>EW EMER.</td>\n",
       "      <td>P03G4D</td>\n",
       "      <td>EMERGENCY ROOM</td>\n",
       "      <td>DIED</td>\n",
       "      <td>Other</td>\n",
       "      <td>ENGLISH</td>\n",
       "      <td>MARRIED</td>\n",
       "      <td>WHITE</td>\n",
       "      <td>2171-12-10 11:37:00</td>\n",
       "      <td>2171-12-10 16:10:00</td>\n",
       "      <td>1</td>\n",
       "      <td>2171-12-10 14:49:00</td>\n",
       "      <td>2171-12-10 00:00:00</td>\n",
       "      <td>-0.617361</td>\n",
       "    </tr>\n",
       "    <tr>\n",
       "      <th>427539</th>\n",
       "      <td>19914761</td>\n",
       "      <td>22348782</td>\n",
       "      <td>2145-07-10 18:28:00</td>\n",
       "      <td>2145-07-10 00:01:00</td>\n",
       "      <td>2145-07-10 00:01:00</td>\n",
       "      <td>EW EMER.</td>\n",
       "      <td>P47E1G</td>\n",
       "      <td>EMERGENCY ROOM</td>\n",
       "      <td>DIED</td>\n",
       "      <td>Medicare</td>\n",
       "      <td>ENGLISH</td>\n",
       "      <td>SINGLE</td>\n",
       "      <td>WHITE</td>\n",
       "      <td>2145-07-10 15:16:00</td>\n",
       "      <td>2145-07-10 19:43:00</td>\n",
       "      <td>1</td>\n",
       "      <td>2145-07-10 18:28:00</td>\n",
       "      <td>2145-07-10 00:01:00</td>\n",
       "      <td>-0.768750</td>\n",
       "    </tr>\n",
       "    <tr>\n",
       "      <th>429853</th>\n",
       "      <td>19966756</td>\n",
       "      <td>29577757</td>\n",
       "      <td>2145-08-13 05:54:00</td>\n",
       "      <td>2145-08-13 04:30:00</td>\n",
       "      <td>NaN</td>\n",
       "      <td>EW EMER.</td>\n",
       "      <td>P721A8</td>\n",
       "      <td>EMERGENCY ROOM</td>\n",
       "      <td>HOME</td>\n",
       "      <td>Other</td>\n",
       "      <td>ENGLISH</td>\n",
       "      <td>MARRIED</td>\n",
       "      <td>BLACK/AFRICAN AMERICAN</td>\n",
       "      <td>2145-08-13 01:54:00</td>\n",
       "      <td>2145-08-13 08:45:00</td>\n",
       "      <td>0</td>\n",
       "      <td>2145-08-13 05:54:00</td>\n",
       "      <td>2145-08-13 04:30:00</td>\n",
       "      <td>-0.058333</td>\n",
       "    </tr>\n",
       "    <tr>\n",
       "      <th>431177</th>\n",
       "      <td>19998843</td>\n",
       "      <td>29554106</td>\n",
       "      <td>2187-02-08 17:29:00</td>\n",
       "      <td>2187-02-08 09:29:00</td>\n",
       "      <td>NaN</td>\n",
       "      <td>DIRECT EMER.</td>\n",
       "      <td>P233F6</td>\n",
       "      <td>PHYSICIAN REFERRAL</td>\n",
       "      <td>NaN</td>\n",
       "      <td>Other</td>\n",
       "      <td>?</td>\n",
       "      <td>SINGLE</td>\n",
       "      <td>UNKNOWN</td>\n",
       "      <td>NaN</td>\n",
       "      <td>NaN</td>\n",
       "      <td>0</td>\n",
       "      <td>2187-02-08 17:29:00</td>\n",
       "      <td>2187-02-08 09:29:00</td>\n",
       "      <td>-0.333333</td>\n",
       "    </tr>\n",
       "  </tbody>\n",
       "</table>\n",
       "<p>139 rows × 19 columns</p>\n",
       "</div>"
      ],
      "text/plain": [
       "        subject_id   hadm_id            admittime            dischtime  \\\n",
       "2101      10049642  26714941  2177-02-20 03:15:00  2177-02-20 02:30:00   \n",
       "3115      10077373  23874669  2187-12-18 19:14:00  2187-12-18 12:22:00   \n",
       "5504      10136283  29334858  2163-03-01 20:43:00  2163-03-01 02:32:00   \n",
       "11168     10270064  29192733  2175-01-30 11:30:00  2175-01-30 08:00:00   \n",
       "11211     10271174  26331353  2117-01-09 02:57:00  2117-01-09 02:19:00   \n",
       "...            ...       ...                  ...                  ...   \n",
       "426237    19887023  24942188  2128-11-12 09:54:00  2128-11-12 00:00:00   \n",
       "427007    19904685  24196469  2171-12-10 14:49:00  2171-12-10 00:00:00   \n",
       "427539    19914761  22348782  2145-07-10 18:28:00  2145-07-10 00:01:00   \n",
       "429853    19966756  29577757  2145-08-13 05:54:00  2145-08-13 04:30:00   \n",
       "431177    19998843  29554106  2187-02-08 17:29:00  2187-02-08 09:29:00   \n",
       "\n",
       "                  deathtime      admission_type admit_provider_id  \\\n",
       "2101    2177-02-20 20:30:00            EW EMER.            P47KFL   \n",
       "3115                    NaN  DIRECT OBSERVATION            P48H5S   \n",
       "5504                    NaN      EU OBSERVATION            P48H5S   \n",
       "11168                   NaN            EW EMER.            P506DE   \n",
       "11211   2117-01-09 20:51:00            EW EMER.            P48KFD   \n",
       "...                     ...                 ...               ...   \n",
       "426237  2128-11-12 20:45:00            EW EMER.            P3529J   \n",
       "427007  2171-12-10 19:50:00            EW EMER.            P03G4D   \n",
       "427539  2145-07-10 00:01:00            EW EMER.            P47E1G   \n",
       "429853                  NaN            EW EMER.            P721A8   \n",
       "431177                  NaN        DIRECT EMER.            P233F6   \n",
       "\n",
       "        admission_location discharge_location insurance language  \\\n",
       "2101        EMERGENCY ROOM               DIED     Other        ?   \n",
       "3115        EMERGENCY ROOM                NaN  Medicare  ENGLISH   \n",
       "5504        EMERGENCY ROOM                NaN     Other  ENGLISH   \n",
       "11168                 PACU                NaN     Other  ENGLISH   \n",
       "11211       EMERGENCY ROOM               DIED  Medicare  ENGLISH   \n",
       "...                    ...                ...       ...      ...   \n",
       "426237      EMERGENCY ROOM               DIED     Other  ENGLISH   \n",
       "427007      EMERGENCY ROOM               DIED     Other  ENGLISH   \n",
       "427539      EMERGENCY ROOM               DIED  Medicare  ENGLISH   \n",
       "429853      EMERGENCY ROOM               HOME     Other  ENGLISH   \n",
       "431177  PHYSICIAN REFERRAL                NaN     Other        ?   \n",
       "\n",
       "       marital_status                    race            edregtime  \\\n",
       "2101              NaN                 UNKNOWN  2177-02-20 01:15:00   \n",
       "3115          MARRIED                   WHITE  2187-12-18 16:27:00   \n",
       "5504           SINGLE                   WHITE  2163-03-01 19:22:00   \n",
       "11168         MARRIED                 UNKNOWN                  NaN   \n",
       "11211             NaN                 UNKNOWN  2117-01-09 02:07:00   \n",
       "...               ...                     ...                  ...   \n",
       "426237        MARRIED                   WHITE  2128-11-12 06:47:00   \n",
       "427007        MARRIED                   WHITE  2171-12-10 11:37:00   \n",
       "427539         SINGLE                   WHITE  2145-07-10 15:16:00   \n",
       "429853        MARRIED  BLACK/AFRICAN AMERICAN  2145-08-13 01:54:00   \n",
       "431177         SINGLE                 UNKNOWN                  NaN   \n",
       "\n",
       "                  edouttime  hospital_expire_flag           ADMITTIME  \\\n",
       "2101    2177-02-20 04:25:00                     1 2177-02-20 03:15:00   \n",
       "3115    2187-12-19 12:59:00                     0 2187-12-18 19:14:00   \n",
       "5504    2163-03-02 00:39:00                     0 2163-03-01 20:43:00   \n",
       "11168                   NaN                     0 2175-01-30 11:30:00   \n",
       "11211   2117-01-09 06:24:00                     1 2117-01-09 02:57:00   \n",
       "...                     ...                   ...                 ...   \n",
       "426237  2128-11-12 10:44:00                     1 2128-11-12 09:54:00   \n",
       "427007  2171-12-10 16:10:00                     1 2171-12-10 14:49:00   \n",
       "427539  2145-07-10 19:43:00                     1 2145-07-10 18:28:00   \n",
       "429853  2145-08-13 08:45:00                     0 2145-08-13 05:54:00   \n",
       "431177                  NaN                     0 2187-02-08 17:29:00   \n",
       "\n",
       "                 DISCHTIME       LOS  \n",
       "2101   2177-02-20 02:30:00 -0.031250  \n",
       "3115   2187-12-18 12:22:00 -0.286111  \n",
       "5504   2163-03-01 02:32:00 -0.757639  \n",
       "11168  2175-01-30 08:00:00 -0.145833  \n",
       "11211  2117-01-09 02:19:00 -0.026389  \n",
       "...                    ...       ...  \n",
       "426237 2128-11-12 00:00:00 -0.412500  \n",
       "427007 2171-12-10 00:00:00 -0.617361  \n",
       "427539 2145-07-10 00:01:00 -0.768750  \n",
       "429853 2145-08-13 04:30:00 -0.058333  \n",
       "431177 2187-02-08 09:29:00 -0.333333  \n",
       "\n",
       "[139 rows x 19 columns]"
      ]
     },
     "execution_count": 60,
     "metadata": {},
     "output_type": "execute_result"
    }
   ],
   "source": [
    "negLOS = admissions.loc[admissions['LOS'] < 0]\n",
    "negLOS"
   ]
  },
  {
   "cell_type": "code",
   "execution_count": 68,
   "id": "c0bc5ad2",
   "metadata": {},
   "outputs": [
    {
     "name": "stdout",
     "output_type": "stream",
     "text": [
      "<class 'pandas.core.frame.DataFrame'>\n",
      "Int64Index: 139 entries, 2101 to 431177\n",
      "Data columns (total 19 columns):\n",
      " #   Column                Non-Null Count  Dtype         \n",
      "---  ------                --------------  -----         \n",
      " 0   subject_id            139 non-null    int64         \n",
      " 1   hadm_id               139 non-null    int64         \n",
      " 2   admittime             139 non-null    object        \n",
      " 3   dischtime             139 non-null    object        \n",
      " 4   deathtime             71 non-null     object        \n",
      " 5   admission_type        139 non-null    object        \n",
      " 6   admit_provider_id     139 non-null    object        \n",
      " 7   admission_location    139 non-null    object        \n",
      " 8   discharge_location    76 non-null     object        \n",
      " 9   insurance             139 non-null    object        \n",
      " 10  language              139 non-null    object        \n",
      " 11  marital_status        114 non-null    object        \n",
      " 12  race                  139 non-null    object        \n",
      " 13  edregtime             113 non-null    object        \n",
      " 14  edouttime             113 non-null    object        \n",
      " 15  hospital_expire_flag  139 non-null    int64         \n",
      " 16  ADMITTIME             139 non-null    datetime64[ns]\n",
      " 17  DISCHTIME             139 non-null    datetime64[ns]\n",
      " 18  LOS                   139 non-null    float64       \n",
      "dtypes: datetime64[ns](2), float64(1), int64(3), object(13)\n",
      "memory usage: 21.7+ KB\n"
     ]
    }
   ],
   "source": [
    "negLOS.info()"
   ]
  },
  {
   "cell_type": "markdown",
   "id": "0ed07e25",
   "metadata": {},
   "source": [
    "51% of entries into negLOS have a deathtime. Thus, over half of the stays that are negative may be due to patients being pronounced dead before arrival."
   ]
  },
  {
   "cell_type": "markdown",
   "id": "aac29aa2",
   "metadata": {},
   "source": [
    "**The minimum stay time is negative, this is not possible, so we should further explore this data in EDA.**"
   ]
  },
  {
   "cell_type": "code",
   "execution_count": null,
   "id": "f602d20b",
   "metadata": {},
   "outputs": [],
   "source": [
    "# Drop rows with negative LOS. The negative LOS means that the patient was brought dead to the ICU.\n",
    "admissions['LOS'][admissions['LOS'] > 0].describe()"
   ]
  },
  {
   "cell_type": "code",
   "execution_count": 119,
   "id": "f1fd1ad2",
   "metadata": {},
   "outputs": [],
   "source": [
    "admissions = admissions[admissions['LOS'] > 0]"
   ]
  },
  {
   "cell_type": "code",
   "execution_count": 120,
   "id": "357abfbd",
   "metadata": {},
   "outputs": [
    {
     "data": {
      "text/html": [
       "<div>\n",
       "<style scoped>\n",
       "    .dataframe tbody tr th:only-of-type {\n",
       "        vertical-align: middle;\n",
       "    }\n",
       "\n",
       "    .dataframe tbody tr th {\n",
       "        vertical-align: top;\n",
       "    }\n",
       "\n",
       "    .dataframe thead th {\n",
       "        text-align: right;\n",
       "    }\n",
       "</style>\n",
       "<table border=\"1\" class=\"dataframe\">\n",
       "  <thead>\n",
       "    <tr style=\"text-align: right;\">\n",
       "      <th></th>\n",
       "      <th>subject_id</th>\n",
       "      <th>hadm_id</th>\n",
       "      <th>admittime</th>\n",
       "      <th>dischtime</th>\n",
       "      <th>deathtime</th>\n",
       "      <th>admission_type</th>\n",
       "      <th>admit_provider_id</th>\n",
       "      <th>admission_location</th>\n",
       "      <th>discharge_location</th>\n",
       "      <th>insurance</th>\n",
       "      <th>language</th>\n",
       "      <th>marital_status</th>\n",
       "      <th>race</th>\n",
       "      <th>edregtime</th>\n",
       "      <th>edouttime</th>\n",
       "      <th>hospital_expire_flag</th>\n",
       "      <th>ADMITTIME</th>\n",
       "      <th>DISCHTIME</th>\n",
       "      <th>LOS</th>\n",
       "    </tr>\n",
       "  </thead>\n",
       "  <tbody>\n",
       "    <tr>\n",
       "      <th>0</th>\n",
       "      <td>10000032</td>\n",
       "      <td>22595853</td>\n",
       "      <td>2180-05-06 22:23:00</td>\n",
       "      <td>2180-05-07 17:15:00</td>\n",
       "      <td>NaN</td>\n",
       "      <td>URGENT</td>\n",
       "      <td>P874LG</td>\n",
       "      <td>TRANSFER FROM HOSPITAL</td>\n",
       "      <td>HOME</td>\n",
       "      <td>Other</td>\n",
       "      <td>ENGLISH</td>\n",
       "      <td>WIDOWED</td>\n",
       "      <td>WHITE</td>\n",
       "      <td>2180-05-06 19:17:00</td>\n",
       "      <td>2180-05-06 23:30:00</td>\n",
       "      <td>0</td>\n",
       "      <td>2180-05-06 22:23:00</td>\n",
       "      <td>2180-05-07 17:15:00</td>\n",
       "      <td>0.786111</td>\n",
       "    </tr>\n",
       "    <tr>\n",
       "      <th>1</th>\n",
       "      <td>10000032</td>\n",
       "      <td>22841357</td>\n",
       "      <td>2180-06-26 18:27:00</td>\n",
       "      <td>2180-06-27 18:49:00</td>\n",
       "      <td>NaN</td>\n",
       "      <td>EW EMER.</td>\n",
       "      <td>P09Q6Y</td>\n",
       "      <td>EMERGENCY ROOM</td>\n",
       "      <td>HOME</td>\n",
       "      <td>Medicaid</td>\n",
       "      <td>ENGLISH</td>\n",
       "      <td>WIDOWED</td>\n",
       "      <td>WHITE</td>\n",
       "      <td>2180-06-26 15:54:00</td>\n",
       "      <td>2180-06-26 21:31:00</td>\n",
       "      <td>0</td>\n",
       "      <td>2180-06-26 18:27:00</td>\n",
       "      <td>2180-06-27 18:49:00</td>\n",
       "      <td>1.015278</td>\n",
       "    </tr>\n",
       "    <tr>\n",
       "      <th>2</th>\n",
       "      <td>10000032</td>\n",
       "      <td>25742920</td>\n",
       "      <td>2180-08-05 23:44:00</td>\n",
       "      <td>2180-08-07 17:50:00</td>\n",
       "      <td>NaN</td>\n",
       "      <td>EW EMER.</td>\n",
       "      <td>P60CC5</td>\n",
       "      <td>EMERGENCY ROOM</td>\n",
       "      <td>HOSPICE</td>\n",
       "      <td>Medicaid</td>\n",
       "      <td>ENGLISH</td>\n",
       "      <td>WIDOWED</td>\n",
       "      <td>WHITE</td>\n",
       "      <td>2180-08-05 20:58:00</td>\n",
       "      <td>2180-08-06 01:44:00</td>\n",
       "      <td>0</td>\n",
       "      <td>2180-08-05 23:44:00</td>\n",
       "      <td>2180-08-07 17:50:00</td>\n",
       "      <td>1.754167</td>\n",
       "    </tr>\n",
       "    <tr>\n",
       "      <th>3</th>\n",
       "      <td>10000032</td>\n",
       "      <td>29079034</td>\n",
       "      <td>2180-07-23 12:35:00</td>\n",
       "      <td>2180-07-25 17:55:00</td>\n",
       "      <td>NaN</td>\n",
       "      <td>EW EMER.</td>\n",
       "      <td>P30KEH</td>\n",
       "      <td>EMERGENCY ROOM</td>\n",
       "      <td>HOME</td>\n",
       "      <td>Medicaid</td>\n",
       "      <td>ENGLISH</td>\n",
       "      <td>WIDOWED</td>\n",
       "      <td>WHITE</td>\n",
       "      <td>2180-07-23 05:54:00</td>\n",
       "      <td>2180-07-23 14:00:00</td>\n",
       "      <td>0</td>\n",
       "      <td>2180-07-23 12:35:00</td>\n",
       "      <td>2180-07-25 17:55:00</td>\n",
       "      <td>2.222222</td>\n",
       "    </tr>\n",
       "    <tr>\n",
       "      <th>4</th>\n",
       "      <td>10000068</td>\n",
       "      <td>25022803</td>\n",
       "      <td>2160-03-03 23:16:00</td>\n",
       "      <td>2160-03-04 06:26:00</td>\n",
       "      <td>NaN</td>\n",
       "      <td>EU OBSERVATION</td>\n",
       "      <td>P51VDL</td>\n",
       "      <td>EMERGENCY ROOM</td>\n",
       "      <td>NaN</td>\n",
       "      <td>Other</td>\n",
       "      <td>ENGLISH</td>\n",
       "      <td>SINGLE</td>\n",
       "      <td>WHITE</td>\n",
       "      <td>2160-03-03 21:55:00</td>\n",
       "      <td>2160-03-04 06:26:00</td>\n",
       "      <td>0</td>\n",
       "      <td>2160-03-03 23:16:00</td>\n",
       "      <td>2160-03-04 06:26:00</td>\n",
       "      <td>0.298611</td>\n",
       "    </tr>\n",
       "  </tbody>\n",
       "</table>\n",
       "</div>"
      ],
      "text/plain": [
       "   subject_id   hadm_id            admittime            dischtime deathtime  \\\n",
       "0    10000032  22595853  2180-05-06 22:23:00  2180-05-07 17:15:00       NaN   \n",
       "1    10000032  22841357  2180-06-26 18:27:00  2180-06-27 18:49:00       NaN   \n",
       "2    10000032  25742920  2180-08-05 23:44:00  2180-08-07 17:50:00       NaN   \n",
       "3    10000032  29079034  2180-07-23 12:35:00  2180-07-25 17:55:00       NaN   \n",
       "4    10000068  25022803  2160-03-03 23:16:00  2160-03-04 06:26:00       NaN   \n",
       "\n",
       "   admission_type admit_provider_id      admission_location  \\\n",
       "0          URGENT            P874LG  TRANSFER FROM HOSPITAL   \n",
       "1        EW EMER.            P09Q6Y          EMERGENCY ROOM   \n",
       "2        EW EMER.            P60CC5          EMERGENCY ROOM   \n",
       "3        EW EMER.            P30KEH          EMERGENCY ROOM   \n",
       "4  EU OBSERVATION            P51VDL          EMERGENCY ROOM   \n",
       "\n",
       "  discharge_location insurance language marital_status   race  \\\n",
       "0               HOME     Other  ENGLISH        WIDOWED  WHITE   \n",
       "1               HOME  Medicaid  ENGLISH        WIDOWED  WHITE   \n",
       "2            HOSPICE  Medicaid  ENGLISH        WIDOWED  WHITE   \n",
       "3               HOME  Medicaid  ENGLISH        WIDOWED  WHITE   \n",
       "4                NaN     Other  ENGLISH         SINGLE  WHITE   \n",
       "\n",
       "             edregtime            edouttime  hospital_expire_flag  \\\n",
       "0  2180-05-06 19:17:00  2180-05-06 23:30:00                     0   \n",
       "1  2180-06-26 15:54:00  2180-06-26 21:31:00                     0   \n",
       "2  2180-08-05 20:58:00  2180-08-06 01:44:00                     0   \n",
       "3  2180-07-23 05:54:00  2180-07-23 14:00:00                     0   \n",
       "4  2160-03-03 21:55:00  2160-03-04 06:26:00                     0   \n",
       "\n",
       "            ADMITTIME           DISCHTIME       LOS  \n",
       "0 2180-05-06 22:23:00 2180-05-07 17:15:00  0.786111  \n",
       "1 2180-06-26 18:27:00 2180-06-27 18:49:00  1.015278  \n",
       "2 2180-08-05 23:44:00 2180-08-07 17:50:00  1.754167  \n",
       "3 2180-07-23 12:35:00 2180-07-25 17:55:00  2.222222  \n",
       "4 2160-03-03 23:16:00 2160-03-04 06:26:00  0.298611  "
      ]
     },
     "execution_count": 120,
     "metadata": {},
     "output_type": "execute_result"
    }
   ],
   "source": [
    "admissions.head()"
   ]
  },
  {
   "cell_type": "code",
   "execution_count": 69,
   "id": "195c66d2",
   "metadata": {},
   "outputs": [
    {
     "data": {
      "image/png": "[encoded data removed]",
      "text/plain": [
       "<Figure size 640x480 with 1 Axes>"
      ]
     },
     "metadata": {},
     "output_type": "display_data"
    }
   ],
   "source": [
    "# Plot LOS Distribution\n",
    "plt.hist(admissions['LOS'], bins=300, color = '0.75')\n",
    "plt.xlim(0, 100)\n",
    "plt.title('Distribution of LOS for all hospital admissions \\n incl. deceased')\n",
    "plt.ylabel('Count')\n",
    "plt.xlabel('Length-of-Stay (days)')\n",
    "plt.tick_params(top=False, right=False) \n",
    "plt.show();"
   ]
  },
  {
   "cell_type": "code",
   "execution_count": 122,
   "id": "a17b9d60",
   "metadata": {},
   "outputs": [
    {
     "name": "stdout",
     "output_type": "stream",
     "text": [
      "Mean LOS:  4.484861981323351\n",
      "Median LOS:  2.738194444444445\n",
      "Min LOS:  0.0006944444444444446\n",
      "Max LOS:  295.98819444444445\n"
     ]
    }
   ],
   "source": [
    "# Descriptive analysis of LOS metric (target variable)\n",
    "mean_los = admissions['LOS'].mean() \n",
    "median_los = admissions['LOS'].median()\n",
    "min_los = admissions['LOS'].min()\n",
    "max_los = admissions['LOS'].max()\n",
    "\n",
    "print(\"Mean LOS: \",mean_los)\n",
    "print(\"Median LOS: \",median_los)\n",
    "print(\"Min LOS: \",min_los)\n",
    "print(\"Max LOS: \",max_los)"
   ]
  },
  {
   "cell_type": "code",
   "execution_count": 20,
   "id": "876688b1",
   "metadata": {},
   "outputs": [
    {
     "data": {
      "text/html": [
       "<div>\n",
       "<style scoped>\n",
       "    .dataframe tbody tr th:only-of-type {\n",
       "        vertical-align: middle;\n",
       "    }\n",
       "\n",
       "    .dataframe tbody tr th {\n",
       "        vertical-align: top;\n",
       "    }\n",
       "\n",
       "    .dataframe thead th {\n",
       "        text-align: right;\n",
       "    }\n",
       "</style>\n",
       "<table border=\"1\" class=\"dataframe\">\n",
       "  <thead>\n",
       "    <tr style=\"text-align: right;\">\n",
       "      <th></th>\n",
       "      <th>subject_id</th>\n",
       "      <th>hadm_id</th>\n",
       "      <th>hospital_expire_flag</th>\n",
       "      <th>LOS</th>\n",
       "    </tr>\n",
       "  </thead>\n",
       "  <tbody>\n",
       "    <tr>\n",
       "      <th>count</th>\n",
       "      <td>4.312310e+05</td>\n",
       "      <td>4.312310e+05</td>\n",
       "      <td>431231.000000</td>\n",
       "      <td>431231.000000</td>\n",
       "    </tr>\n",
       "    <tr>\n",
       "      <th>mean</th>\n",
       "      <td>1.500766e+07</td>\n",
       "      <td>2.500314e+07</td>\n",
       "      <td>0.019964</td>\n",
       "      <td>4.483283</td>\n",
       "    </tr>\n",
       "    <tr>\n",
       "      <th>std</th>\n",
       "      <td>2.877498e+06</td>\n",
       "      <td>2.888180e+06</td>\n",
       "      <td>0.139876</td>\n",
       "      <td>6.626732</td>\n",
       "    </tr>\n",
       "    <tr>\n",
       "      <th>min</th>\n",
       "      <td>1.000003e+07</td>\n",
       "      <td>2.000002e+07</td>\n",
       "      <td>0.000000</td>\n",
       "      <td>-0.945139</td>\n",
       "    </tr>\n",
       "    <tr>\n",
       "      <th>25%</th>\n",
       "      <td>1.251557e+07</td>\n",
       "      <td>2.250155e+07</td>\n",
       "      <td>0.000000</td>\n",
       "      <td>1.070139</td>\n",
       "    </tr>\n",
       "    <tr>\n",
       "      <th>50%</th>\n",
       "      <td>1.501288e+07</td>\n",
       "      <td>2.500669e+07</td>\n",
       "      <td>0.000000</td>\n",
       "      <td>2.737500</td>\n",
       "    </tr>\n",
       "    <tr>\n",
       "      <th>75%</th>\n",
       "      <td>1.749622e+07</td>\n",
       "      <td>2.750470e+07</td>\n",
       "      <td>0.000000</td>\n",
       "      <td>5.241667</td>\n",
       "    </tr>\n",
       "    <tr>\n",
       "      <th>max</th>\n",
       "      <td>1.999999e+07</td>\n",
       "      <td>2.999993e+07</td>\n",
       "      <td>1.000000</td>\n",
       "      <td>295.988194</td>\n",
       "    </tr>\n",
       "  </tbody>\n",
       "</table>\n",
       "</div>"
      ],
      "text/plain": [
       "         subject_id       hadm_id  hospital_expire_flag            LOS\n",
       "count  4.312310e+05  4.312310e+05         431231.000000  431231.000000\n",
       "mean   1.500766e+07  2.500314e+07              0.019964       4.483283\n",
       "std    2.877498e+06  2.888180e+06              0.139876       6.626732\n",
       "min    1.000003e+07  2.000002e+07              0.000000      -0.945139\n",
       "25%    1.251557e+07  2.250155e+07              0.000000       1.070139\n",
       "50%    1.501288e+07  2.500669e+07              0.000000       2.737500\n",
       "75%    1.749622e+07  2.750470e+07              0.000000       5.241667\n",
       "max    1.999999e+07  2.999993e+07              1.000000     295.988194"
      ]
     },
     "execution_count": 20,
     "metadata": {},
     "output_type": "execute_result"
    }
   ],
   "source": [
    "admissions.describe()"
   ]
  },
  {
   "cell_type": "code",
   "execution_count": 125,
   "id": "efaf25b5",
   "metadata": {},
   "outputs": [
    {
     "data": {
      "text/plain": [
       "EW EMER.                       148426\n",
       "EU OBSERVATION                  94726\n",
       "OBSERVATION ADMIT               52235\n",
       "URGENT                          44138\n",
       "SURGICAL SAME DAY ADMISSION     34134\n",
       "DIRECT EMER.                    19315\n",
       "DIRECT OBSERVATION              18699\n",
       "ELECTIVE                        10490\n",
       "AMBULATORY OBSERVATION           6626\n",
       "Name: admission_type, dtype: int64"
      ]
     },
     "execution_count": 125,
     "metadata": {},
     "output_type": "execute_result"
    }
   ],
   "source": [
    "admissions['admission_type'].value_counts()"
   ]
  },
  {
   "cell_type": "code",
   "execution_count": 126,
   "id": "63fc62e6",
   "metadata": {},
   "outputs": [],
   "source": [
    "# Bar plot function\n",
    "def plot_los_groupby(variable, size=(7,4)):\n",
    "    ''' \n",
    "    Plot Median LOS by df categorical series name \n",
    "    '''\n",
    "    results = admissions[[variable, 'LOS']].groupby(variable).median().reset_index()\n",
    "    values = list(results['LOS'].values)\n",
    "    labels = list(results[variable].values)\n",
    "\n",
    "    fig, ax = plt.subplots(figsize=size)\n",
    "    ind = range(len(results))\n",
    "    ax.barh(ind, values, align='center', height=0.6, color = '#55a868', alpha=0.8)\n",
    "    ax.set_yticks(ind)\n",
    "    ax.set_yticklabels(labels)\n",
    "    ax.set_xlabel('Median Length of Stay (days)')\n",
    "    ax.tick_params(left=False, top=False, right=False) \n",
    "    ax.set_title('Comparison of {} labels'.format(variable))\n",
    "    \n",
    "    plt.tight_layout()\n",
    "    plt.show();"
   ]
  },
  {
   "cell_type": "code",
   "execution_count": 127,
   "id": "632b6e35",
   "metadata": {},
   "outputs": [
    {
     "data": {
      "image/png": "[encoded data removed]",
      "text/plain": [
       "<Figure size 700x400 with 1 Axes>"
      ]
     },
     "metadata": {},
     "output_type": "display_data"
    }
   ],
   "source": [
    "plot_los_groupby('admission_type')"
   ]
  },
  {
   "cell_type": "markdown",
   "id": "cd363d38",
   "metadata": {},
   "source": [
    "#### Patients Table\n",
    "<p> Patients' gender, age, and date of death if information exists.\n",
    "Information that is consistent for the lifetime of a patient is stored in this table.\n",
    "\n",
    "<br> </p> **interested in subject id and age**"
   ]
  },
  {
   "cell_type": "code",
   "execution_count": 128,
   "id": "5cdb77ac",
   "metadata": {},
   "outputs": [],
   "source": [
    "patients = pd.read_csv('mimiciv/2.0/hosp/patients.csv.gz')"
   ]
  },
  {
   "cell_type": "code",
   "execution_count": 129,
   "id": "a64954da",
   "metadata": {},
   "outputs": [
    {
     "data": {
      "text/html": [
       "<div>\n",
       "<style scoped>\n",
       "    .dataframe tbody tr th:only-of-type {\n",
       "        vertical-align: middle;\n",
       "    }\n",
       "\n",
       "    .dataframe tbody tr th {\n",
       "        vertical-align: top;\n",
       "    }\n",
       "\n",
       "    .dataframe thead th {\n",
       "        text-align: right;\n",
       "    }\n",
       "</style>\n",
       "<table border=\"1\" class=\"dataframe\">\n",
       "  <thead>\n",
       "    <tr style=\"text-align: right;\">\n",
       "      <th></th>\n",
       "      <th>subject_id</th>\n",
       "      <th>gender</th>\n",
       "      <th>anchor_age</th>\n",
       "      <th>anchor_year</th>\n",
       "      <th>anchor_year_group</th>\n",
       "      <th>dod</th>\n",
       "    </tr>\n",
       "  </thead>\n",
       "  <tbody>\n",
       "    <tr>\n",
       "      <th>0</th>\n",
       "      <td>10000032</td>\n",
       "      <td>F</td>\n",
       "      <td>52</td>\n",
       "      <td>2180</td>\n",
       "      <td>2014 - 2016</td>\n",
       "      <td>2180-09-09</td>\n",
       "    </tr>\n",
       "    <tr>\n",
       "      <th>1</th>\n",
       "      <td>10000048</td>\n",
       "      <td>F</td>\n",
       "      <td>23</td>\n",
       "      <td>2126</td>\n",
       "      <td>2008 - 2010</td>\n",
       "      <td>NaN</td>\n",
       "    </tr>\n",
       "    <tr>\n",
       "      <th>2</th>\n",
       "      <td>10000068</td>\n",
       "      <td>F</td>\n",
       "      <td>19</td>\n",
       "      <td>2160</td>\n",
       "      <td>2008 - 2010</td>\n",
       "      <td>NaN</td>\n",
       "    </tr>\n",
       "    <tr>\n",
       "      <th>3</th>\n",
       "      <td>10000084</td>\n",
       "      <td>M</td>\n",
       "      <td>72</td>\n",
       "      <td>2160</td>\n",
       "      <td>2017 - 2019</td>\n",
       "      <td>2161-02-13</td>\n",
       "    </tr>\n",
       "    <tr>\n",
       "      <th>4</th>\n",
       "      <td>10000102</td>\n",
       "      <td>F</td>\n",
       "      <td>27</td>\n",
       "      <td>2136</td>\n",
       "      <td>2008 - 2010</td>\n",
       "      <td>NaN</td>\n",
       "    </tr>\n",
       "  </tbody>\n",
       "</table>\n",
       "</div>"
      ],
      "text/plain": [
       "   subject_id gender  anchor_age  anchor_year anchor_year_group         dod\n",
       "0    10000032      F          52         2180       2014 - 2016  2180-09-09\n",
       "1    10000048      F          23         2126       2008 - 2010         NaN\n",
       "2    10000068      F          19         2160       2008 - 2010         NaN\n",
       "3    10000084      M          72         2160       2017 - 2019  2161-02-13\n",
       "4    10000102      F          27         2136       2008 - 2010         NaN"
      ]
     },
     "execution_count": 129,
     "metadata": {},
     "output_type": "execute_result"
    }
   ],
   "source": [
    "patients.head()"
   ]
  },
  {
   "cell_type": "code",
   "execution_count": 130,
   "id": "e0c25e89",
   "metadata": {},
   "outputs": [
    {
     "name": "stdout",
     "output_type": "stream",
     "text": [
      "Dataset has 299712 number of unique patients.\n"
     ]
    }
   ],
   "source": [
    "# Unique patients\n",
    "print('Dataset has {} number of unique patients.'.format(patients['subject_id'].nunique()))"
   ]
  },
  {
   "cell_type": "markdown",
   "id": "c0f85e7e",
   "metadata": {},
   "source": [
    "The number of entries is equal to the number of unique patients. No duplicates."
   ]
  },
  {
   "cell_type": "markdown",
   "id": "96454d4f",
   "metadata": {},
   "source": [
    "##### Number of missing values by column"
   ]
  },
  {
   "cell_type": "code",
   "execution_count": 131,
   "id": "a4c2b28d",
   "metadata": {},
   "outputs": [
    {
     "data": {
      "text/html": [
       "<div>\n",
       "<style scoped>\n",
       "    .dataframe tbody tr th:only-of-type {\n",
       "        vertical-align: middle;\n",
       "    }\n",
       "\n",
       "    .dataframe tbody tr th {\n",
       "        vertical-align: top;\n",
       "    }\n",
       "\n",
       "    .dataframe thead th {\n",
       "        text-align: right;\n",
       "    }\n",
       "</style>\n",
       "<table border=\"1\" class=\"dataframe\">\n",
       "  <thead>\n",
       "    <tr style=\"text-align: right;\">\n",
       "      <th></th>\n",
       "      <th>count</th>\n",
       "      <th>%</th>\n",
       "    </tr>\n",
       "  </thead>\n",
       "  <tbody>\n",
       "    <tr>\n",
       "      <th>dod</th>\n",
       "      <td>270636</td>\n",
       "      <td>90.298687</td>\n",
       "    </tr>\n",
       "    <tr>\n",
       "      <th>subject_id</th>\n",
       "      <td>0</td>\n",
       "      <td>0.000000</td>\n",
       "    </tr>\n",
       "    <tr>\n",
       "      <th>gender</th>\n",
       "      <td>0</td>\n",
       "      <td>0.000000</td>\n",
       "    </tr>\n",
       "    <tr>\n",
       "      <th>anchor_age</th>\n",
       "      <td>0</td>\n",
       "      <td>0.000000</td>\n",
       "    </tr>\n",
       "    <tr>\n",
       "      <th>anchor_year</th>\n",
       "      <td>0</td>\n",
       "      <td>0.000000</td>\n",
       "    </tr>\n",
       "    <tr>\n",
       "      <th>anchor_year_group</th>\n",
       "      <td>0</td>\n",
       "      <td>0.000000</td>\n",
       "    </tr>\n",
       "  </tbody>\n",
       "</table>\n",
       "</div>"
      ],
      "text/plain": [
       "                    count          %\n",
       "dod                270636  90.298687\n",
       "subject_id              0   0.000000\n",
       "gender                  0   0.000000\n",
       "anchor_age              0   0.000000\n",
       "anchor_year             0   0.000000\n",
       "anchor_year_group       0   0.000000"
      ]
     },
     "execution_count": 131,
     "metadata": {},
     "output_type": "execute_result"
    }
   ],
   "source": [
    "missing = pd.concat([patients.isnull().sum(), 100 * patients.isnull().mean()], axis=1)\n",
    "missing.columns=['count', '%']\n",
    "missing.sort_values(by='count', ascending=False)"
   ]
  },
  {
   "cell_type": "markdown",
   "id": "cb2d526c",
   "metadata": {},
   "source": [
    "There are no missing values."
   ]
  },
  {
   "cell_type": "code",
   "execution_count": 132,
   "id": "f7361dfa",
   "metadata": {},
   "outputs": [
    {
     "name": "stdout",
     "output_type": "stream",
     "text": [
      "<class 'pandas.core.frame.DataFrame'>\n",
      "RangeIndex: 299712 entries, 0 to 299711\n",
      "Data columns (total 6 columns):\n",
      " #   Column             Non-Null Count   Dtype \n",
      "---  ------             --------------   ----- \n",
      " 0   subject_id         299712 non-null  int64 \n",
      " 1   gender             299712 non-null  object\n",
      " 2   anchor_age         299712 non-null  int64 \n",
      " 3   anchor_year        299712 non-null  int64 \n",
      " 4   anchor_year_group  299712 non-null  object\n",
      " 5   dod                29076 non-null   object\n",
      "dtypes: int64(3), object(3)\n",
      "memory usage: 13.7+ MB\n"
     ]
    }
   ],
   "source": [
    "patients.info()"
   ]
  },
  {
   "cell_type": "code",
   "execution_count": 133,
   "id": "fa8fa09a",
   "metadata": {},
   "outputs": [
    {
     "data": {
      "text/html": [
       "<div>\n",
       "<style scoped>\n",
       "    .dataframe tbody tr th:only-of-type {\n",
       "        vertical-align: middle;\n",
       "    }\n",
       "\n",
       "    .dataframe tbody tr th {\n",
       "        vertical-align: top;\n",
       "    }\n",
       "\n",
       "    .dataframe thead th {\n",
       "        text-align: right;\n",
       "    }\n",
       "</style>\n",
       "<table border=\"1\" class=\"dataframe\">\n",
       "  <thead>\n",
       "    <tr style=\"text-align: right;\">\n",
       "      <th></th>\n",
       "      <th>subject_id</th>\n",
       "      <th>anchor_age</th>\n",
       "      <th>anchor_year</th>\n",
       "    </tr>\n",
       "  </thead>\n",
       "  <tbody>\n",
       "    <tr>\n",
       "      <th>count</th>\n",
       "      <td>2.997120e+05</td>\n",
       "      <td>299712.000000</td>\n",
       "      <td>299712.000000</td>\n",
       "    </tr>\n",
       "    <tr>\n",
       "      <th>mean</th>\n",
       "      <td>1.500885e+07</td>\n",
       "      <td>48.539888</td>\n",
       "      <td>2151.124056</td>\n",
       "    </tr>\n",
       "    <tr>\n",
       "      <th>std</th>\n",
       "      <td>2.885019e+06</td>\n",
       "      <td>20.895650</td>\n",
       "      <td>23.464598</td>\n",
       "    </tr>\n",
       "    <tr>\n",
       "      <th>min</th>\n",
       "      <td>1.000003e+07</td>\n",
       "      <td>18.000000</td>\n",
       "      <td>2110.000000</td>\n",
       "    </tr>\n",
       "    <tr>\n",
       "      <th>25%</th>\n",
       "      <td>1.250796e+07</td>\n",
       "      <td>29.000000</td>\n",
       "      <td>2131.000000</td>\n",
       "    </tr>\n",
       "    <tr>\n",
       "      <th>50%</th>\n",
       "      <td>1.501416e+07</td>\n",
       "      <td>48.000000</td>\n",
       "      <td>2151.000000</td>\n",
       "    </tr>\n",
       "    <tr>\n",
       "      <th>75%</th>\n",
       "      <td>1.750489e+07</td>\n",
       "      <td>65.000000</td>\n",
       "      <td>2171.000000</td>\n",
       "    </tr>\n",
       "    <tr>\n",
       "      <th>max</th>\n",
       "      <td>1.999999e+07</td>\n",
       "      <td>91.000000</td>\n",
       "      <td>2208.000000</td>\n",
       "    </tr>\n",
       "  </tbody>\n",
       "</table>\n",
       "</div>"
      ],
      "text/plain": [
       "         subject_id     anchor_age    anchor_year\n",
       "count  2.997120e+05  299712.000000  299712.000000\n",
       "mean   1.500885e+07      48.539888    2151.124056\n",
       "std    2.885019e+06      20.895650      23.464598\n",
       "min    1.000003e+07      18.000000    2110.000000\n",
       "25%    1.250796e+07      29.000000    2131.000000\n",
       "50%    1.501416e+07      48.000000    2151.000000\n",
       "75%    1.750489e+07      65.000000    2171.000000\n",
       "max    1.999999e+07      91.000000    2208.000000"
      ]
     },
     "execution_count": 133,
     "metadata": {},
     "output_type": "execute_result"
    }
   ],
   "source": [
    "patients.describe()"
   ]
  },
  {
   "cell_type": "markdown",
   "id": "bc8b7b16",
   "metadata": {},
   "source": [
    "#### ICU stays\n",
    "Defines each ICU stay in the database using STAY_ID.\n",
    "<br> **interested in the in and out times, and subject id, hadm_id to merge on.**"
   ]
  },
  {
   "cell_type": "code",
   "execution_count": 134,
   "id": "b8f24160",
   "metadata": {},
   "outputs": [],
   "source": [
    "icustays = pd.read_csv('mimiciv/2.0/icu/icustays.csv.gz')"
   ]
  },
  {
   "cell_type": "code",
   "execution_count": 135,
   "id": "a5b91a3f",
   "metadata": {},
   "outputs": [
    {
     "data": {
      "text/html": [
       "<div>\n",
       "<style scoped>\n",
       "    .dataframe tbody tr th:only-of-type {\n",
       "        vertical-align: middle;\n",
       "    }\n",
       "\n",
       "    .dataframe tbody tr th {\n",
       "        vertical-align: top;\n",
       "    }\n",
       "\n",
       "    .dataframe thead th {\n",
       "        text-align: right;\n",
       "    }\n",
       "</style>\n",
       "<table border=\"1\" class=\"dataframe\">\n",
       "  <thead>\n",
       "    <tr style=\"text-align: right;\">\n",
       "      <th></th>\n",
       "      <th>subject_id</th>\n",
       "      <th>hadm_id</th>\n",
       "      <th>stay_id</th>\n",
       "      <th>first_careunit</th>\n",
       "      <th>last_careunit</th>\n",
       "      <th>intime</th>\n",
       "      <th>outtime</th>\n",
       "      <th>los</th>\n",
       "    </tr>\n",
       "  </thead>\n",
       "  <tbody>\n",
       "    <tr>\n",
       "      <th>0</th>\n",
       "      <td>10000032</td>\n",
       "      <td>29079034</td>\n",
       "      <td>39553978</td>\n",
       "      <td>Medical Intensive Care Unit (MICU)</td>\n",
       "      <td>Medical Intensive Care Unit (MICU)</td>\n",
       "      <td>2180-07-23 14:00:00</td>\n",
       "      <td>2180-07-23 23:50:47</td>\n",
       "      <td>0.410266</td>\n",
       "    </tr>\n",
       "    <tr>\n",
       "      <th>1</th>\n",
       "      <td>10000980</td>\n",
       "      <td>26913865</td>\n",
       "      <td>39765666</td>\n",
       "      <td>Medical Intensive Care Unit (MICU)</td>\n",
       "      <td>Medical Intensive Care Unit (MICU)</td>\n",
       "      <td>2189-06-27 08:42:00</td>\n",
       "      <td>2189-06-27 20:38:27</td>\n",
       "      <td>0.497535</td>\n",
       "    </tr>\n",
       "    <tr>\n",
       "      <th>2</th>\n",
       "      <td>10001217</td>\n",
       "      <td>24597018</td>\n",
       "      <td>37067082</td>\n",
       "      <td>Surgical Intensive Care Unit (SICU)</td>\n",
       "      <td>Surgical Intensive Care Unit (SICU)</td>\n",
       "      <td>2157-11-20 19:18:02</td>\n",
       "      <td>2157-11-21 22:08:00</td>\n",
       "      <td>1.118032</td>\n",
       "    </tr>\n",
       "    <tr>\n",
       "      <th>3</th>\n",
       "      <td>10001217</td>\n",
       "      <td>27703517</td>\n",
       "      <td>34592300</td>\n",
       "      <td>Surgical Intensive Care Unit (SICU)</td>\n",
       "      <td>Surgical Intensive Care Unit (SICU)</td>\n",
       "      <td>2157-12-19 15:42:24</td>\n",
       "      <td>2157-12-20 14:27:41</td>\n",
       "      <td>0.948113</td>\n",
       "    </tr>\n",
       "    <tr>\n",
       "      <th>4</th>\n",
       "      <td>10001725</td>\n",
       "      <td>25563031</td>\n",
       "      <td>31205490</td>\n",
       "      <td>Medical/Surgical Intensive Care Unit (MICU/SICU)</td>\n",
       "      <td>Medical/Surgical Intensive Care Unit (MICU/SICU)</td>\n",
       "      <td>2110-04-11 15:52:22</td>\n",
       "      <td>2110-04-12 23:59:56</td>\n",
       "      <td>1.338588</td>\n",
       "    </tr>\n",
       "  </tbody>\n",
       "</table>\n",
       "</div>"
      ],
      "text/plain": [
       "   subject_id   hadm_id   stay_id  \\\n",
       "0    10000032  29079034  39553978   \n",
       "1    10000980  26913865  39765666   \n",
       "2    10001217  24597018  37067082   \n",
       "3    10001217  27703517  34592300   \n",
       "4    10001725  25563031  31205490   \n",
       "\n",
       "                                     first_careunit  \\\n",
       "0                Medical Intensive Care Unit (MICU)   \n",
       "1                Medical Intensive Care Unit (MICU)   \n",
       "2               Surgical Intensive Care Unit (SICU)   \n",
       "3               Surgical Intensive Care Unit (SICU)   \n",
       "4  Medical/Surgical Intensive Care Unit (MICU/SICU)   \n",
       "\n",
       "                                      last_careunit               intime  \\\n",
       "0                Medical Intensive Care Unit (MICU)  2180-07-23 14:00:00   \n",
       "1                Medical Intensive Care Unit (MICU)  2189-06-27 08:42:00   \n",
       "2               Surgical Intensive Care Unit (SICU)  2157-11-20 19:18:02   \n",
       "3               Surgical Intensive Care Unit (SICU)  2157-12-19 15:42:24   \n",
       "4  Medical/Surgical Intensive Care Unit (MICU/SICU)  2110-04-11 15:52:22   \n",
       "\n",
       "               outtime       los  \n",
       "0  2180-07-23 23:50:47  0.410266  \n",
       "1  2189-06-27 20:38:27  0.497535  \n",
       "2  2157-11-21 22:08:00  1.118032  \n",
       "3  2157-12-20 14:27:41  0.948113  \n",
       "4  2110-04-12 23:59:56  1.338588  "
      ]
     },
     "execution_count": 135,
     "metadata": {},
     "output_type": "execute_result"
    }
   ],
   "source": [
    "icustays.head()"
   ]
  },
  {
   "cell_type": "code",
   "execution_count": 136,
   "id": "ed9aee3a",
   "metadata": {},
   "outputs": [
    {
     "name": "stdout",
     "output_type": "stream",
     "text": [
      "Dataset has 66239 number of unique admission events.\n",
      "Dataset has 50920 number of unique patients.\n"
     ]
    }
   ],
   "source": [
    "# Unique admission events\n",
    "print('Dataset has {} number of unique admission events.'.format(icustays['hadm_id'].nunique()))\n",
    "\n",
    "# Unique patients\n",
    "print('Dataset has {} number of unique patients.'.format(icustays['subject_id'].nunique()))"
   ]
  },
  {
   "cell_type": "code",
   "execution_count": 137,
   "id": "fe4febbe",
   "metadata": {},
   "outputs": [
    {
     "data": {
      "text/plain": [
       "True"
      ]
     },
     "execution_count": 137,
     "metadata": {},
     "output_type": "execute_result"
    }
   ],
   "source": [
    "icustays['hadm_id'].duplicated().any()"
   ]
  },
  {
   "cell_type": "code",
   "execution_count": 138,
   "id": "f7d0f0e4",
   "metadata": {},
   "outputs": [
    {
     "data": {
      "text/plain": [
       "False"
      ]
     },
     "execution_count": 138,
     "metadata": {},
     "output_type": "execute_result"
    }
   ],
   "source": [
    "icustays['stay_id'].duplicated().any()"
   ]
  },
  {
   "cell_type": "markdown",
   "id": "48b8e0d8",
   "metadata": {},
   "source": [
    "**Repeat visitors noted. There are also duplicated admission events as patients are often transferred within the same day denoting a new admision event for the same stay. We will have to encorporate the stay_id to merge with other dataframes.**"
   ]
  },
  {
   "cell_type": "markdown",
   "id": "500725ff",
   "metadata": {},
   "source": [
    "##### Number of missing values by column"
   ]
  },
  {
   "cell_type": "code",
   "execution_count": 139,
   "id": "2b32da36",
   "metadata": {},
   "outputs": [
    {
     "data": {
      "text/html": [
       "<div>\n",
       "<style scoped>\n",
       "    .dataframe tbody tr th:only-of-type {\n",
       "        vertical-align: middle;\n",
       "    }\n",
       "\n",
       "    .dataframe tbody tr th {\n",
       "        vertical-align: top;\n",
       "    }\n",
       "\n",
       "    .dataframe thead th {\n",
       "        text-align: right;\n",
       "    }\n",
       "</style>\n",
       "<table border=\"1\" class=\"dataframe\">\n",
       "  <thead>\n",
       "    <tr style=\"text-align: right;\">\n",
       "      <th></th>\n",
       "      <th>count</th>\n",
       "      <th>%</th>\n",
       "    </tr>\n",
       "  </thead>\n",
       "  <tbody>\n",
       "    <tr>\n",
       "      <th>subject_id</th>\n",
       "      <td>0</td>\n",
       "      <td>0.0</td>\n",
       "    </tr>\n",
       "    <tr>\n",
       "      <th>hadm_id</th>\n",
       "      <td>0</td>\n",
       "      <td>0.0</td>\n",
       "    </tr>\n",
       "    <tr>\n",
       "      <th>stay_id</th>\n",
       "      <td>0</td>\n",
       "      <td>0.0</td>\n",
       "    </tr>\n",
       "    <tr>\n",
       "      <th>first_careunit</th>\n",
       "      <td>0</td>\n",
       "      <td>0.0</td>\n",
       "    </tr>\n",
       "    <tr>\n",
       "      <th>last_careunit</th>\n",
       "      <td>0</td>\n",
       "      <td>0.0</td>\n",
       "    </tr>\n",
       "    <tr>\n",
       "      <th>intime</th>\n",
       "      <td>0</td>\n",
       "      <td>0.0</td>\n",
       "    </tr>\n",
       "    <tr>\n",
       "      <th>outtime</th>\n",
       "      <td>0</td>\n",
       "      <td>0.0</td>\n",
       "    </tr>\n",
       "    <tr>\n",
       "      <th>los</th>\n",
       "      <td>0</td>\n",
       "      <td>0.0</td>\n",
       "    </tr>\n",
       "  </tbody>\n",
       "</table>\n",
       "</div>"
      ],
      "text/plain": [
       "                count    %\n",
       "subject_id          0  0.0\n",
       "hadm_id             0  0.0\n",
       "stay_id             0  0.0\n",
       "first_careunit      0  0.0\n",
       "last_careunit       0  0.0\n",
       "intime              0  0.0\n",
       "outtime             0  0.0\n",
       "los                 0  0.0"
      ]
     },
     "execution_count": 139,
     "metadata": {},
     "output_type": "execute_result"
    }
   ],
   "source": [
    "missing = pd.concat([icustays.isnull().sum(), 100 * icustays.isnull().mean()], axis=1)\n",
    "missing.columns=['count', '%']\n",
    "missing.sort_values(by='count', ascending=False)"
   ]
  },
  {
   "cell_type": "markdown",
   "id": "70d63a8c",
   "metadata": {},
   "source": [
    "There are no missing values."
   ]
  },
  {
   "cell_type": "code",
   "execution_count": 140,
   "id": "4a15c97b",
   "metadata": {},
   "outputs": [
    {
     "name": "stdout",
     "output_type": "stream",
     "text": [
      "<class 'pandas.core.frame.DataFrame'>\n",
      "RangeIndex: 73181 entries, 0 to 73180\n",
      "Data columns (total 8 columns):\n",
      " #   Column          Non-Null Count  Dtype  \n",
      "---  ------          --------------  -----  \n",
      " 0   subject_id      73181 non-null  int64  \n",
      " 1   hadm_id         73181 non-null  int64  \n",
      " 2   stay_id         73181 non-null  int64  \n",
      " 3   first_careunit  73181 non-null  object \n",
      " 4   last_careunit   73181 non-null  object \n",
      " 5   intime          73181 non-null  object \n",
      " 6   outtime         73181 non-null  object \n",
      " 7   los             73181 non-null  float64\n",
      "dtypes: float64(1), int64(3), object(4)\n",
      "memory usage: 4.5+ MB\n"
     ]
    }
   ],
   "source": [
    "icustays.info()"
   ]
  },
  {
   "cell_type": "code",
   "execution_count": 141,
   "id": "8dfebd0a",
   "metadata": {
    "scrolled": true
   },
   "outputs": [
    {
     "data": {
      "text/html": [
       "<div>\n",
       "<style scoped>\n",
       "    .dataframe tbody tr th:only-of-type {\n",
       "        vertical-align: middle;\n",
       "    }\n",
       "\n",
       "    .dataframe tbody tr th {\n",
       "        vertical-align: top;\n",
       "    }\n",
       "\n",
       "    .dataframe thead th {\n",
       "        text-align: right;\n",
       "    }\n",
       "</style>\n",
       "<table border=\"1\" class=\"dataframe\">\n",
       "  <thead>\n",
       "    <tr style=\"text-align: right;\">\n",
       "      <th></th>\n",
       "      <th>subject_id</th>\n",
       "      <th>hadm_id</th>\n",
       "      <th>stay_id</th>\n",
       "      <th>los</th>\n",
       "    </tr>\n",
       "  </thead>\n",
       "  <tbody>\n",
       "    <tr>\n",
       "      <th>count</th>\n",
       "      <td>7.318100e+04</td>\n",
       "      <td>7.318100e+04</td>\n",
       "      <td>7.318100e+04</td>\n",
       "      <td>73181.000000</td>\n",
       "    </tr>\n",
       "    <tr>\n",
       "      <th>mean</th>\n",
       "      <td>1.499819e+07</td>\n",
       "      <td>2.498133e+07</td>\n",
       "      <td>3.499274e+07</td>\n",
       "      <td>3.451931</td>\n",
       "    </tr>\n",
       "    <tr>\n",
       "      <th>std</th>\n",
       "      <td>2.886067e+06</td>\n",
       "      <td>2.884400e+06</td>\n",
       "      <td>2.889261e+06</td>\n",
       "      <td>4.922840</td>\n",
       "    </tr>\n",
       "    <tr>\n",
       "      <th>min</th>\n",
       "      <td>1.000003e+07</td>\n",
       "      <td>2.000009e+07</td>\n",
       "      <td>3.000015e+07</td>\n",
       "      <td>0.001250</td>\n",
       "    </tr>\n",
       "    <tr>\n",
       "      <th>25%</th>\n",
       "      <td>1.249126e+07</td>\n",
       "      <td>2.248335e+07</td>\n",
       "      <td>3.248935e+07</td>\n",
       "      <td>1.084225</td>\n",
       "    </tr>\n",
       "    <tr>\n",
       "      <th>50%</th>\n",
       "      <td>1.499894e+07</td>\n",
       "      <td>2.496964e+07</td>\n",
       "      <td>3.499389e+07</td>\n",
       "      <td>1.926782</td>\n",
       "    </tr>\n",
       "    <tr>\n",
       "      <th>75%</th>\n",
       "      <td>1.751327e+07</td>\n",
       "      <td>2.747180e+07</td>\n",
       "      <td>3.748840e+07</td>\n",
       "      <td>3.713322</td>\n",
       "    </tr>\n",
       "    <tr>\n",
       "      <th>max</th>\n",
       "      <td>1.999999e+07</td>\n",
       "      <td>2.999983e+07</td>\n",
       "      <td>3.999981e+07</td>\n",
       "      <td>110.232280</td>\n",
       "    </tr>\n",
       "  </tbody>\n",
       "</table>\n",
       "</div>"
      ],
      "text/plain": [
       "         subject_id       hadm_id       stay_id           los\n",
       "count  7.318100e+04  7.318100e+04  7.318100e+04  73181.000000\n",
       "mean   1.499819e+07  2.498133e+07  3.499274e+07      3.451931\n",
       "std    2.886067e+06  2.884400e+06  2.889261e+06      4.922840\n",
       "min    1.000003e+07  2.000009e+07  3.000015e+07      0.001250\n",
       "25%    1.249126e+07  2.248335e+07  3.248935e+07      1.084225\n",
       "50%    1.499894e+07  2.496964e+07  3.499389e+07      1.926782\n",
       "75%    1.751327e+07  2.747180e+07  3.748840e+07      3.713322\n",
       "max    1.999999e+07  2.999983e+07  3.999981e+07    110.232280"
      ]
     },
     "execution_count": 141,
     "metadata": {},
     "output_type": "execute_result"
    }
   ],
   "source": [
    "icustays.describe()"
   ]
  },
  {
   "cell_type": "markdown",
   "id": "9f11cf2c",
   "metadata": {},
   "source": [
    "___________________________________________________________________________"
   ]
  },
  {
   "cell_type": "code",
   "execution_count": 142,
   "id": "e7f1fc71",
   "metadata": {},
   "outputs": [
    {
     "data": {
      "text/plain": [
       "Index(['subject_id', 'hadm_id', 'stay_id', 'first_careunit', 'last_careunit',\n",
       "       'intime', 'outtime', 'los'],\n",
       "      dtype='object')"
      ]
     },
     "execution_count": 142,
     "metadata": {},
     "output_type": "execute_result"
    }
   ],
   "source": [
    "icustays.keys()"
   ]
  },
  {
   "cell_type": "markdown",
   "id": "72bd92c6",
   "metadata": {},
   "source": [
    "FIRST_CAREUNIT and LAST_CAREUNIT contain, respectively, the first and last ICU type in which the patient was cared for. As an stay_id groups all ICU admissions within 24 hours of each other, it is possible for a patient to be transferred from one type of ICU to another and have the same stay_id."
   ]
  },
  {
   "cell_type": "code",
   "execution_count": 143,
   "id": "ef7cbb36",
   "metadata": {},
   "outputs": [
    {
     "data": {
      "text/plain": [
       "array(['Medical Intensive Care Unit (MICU)',\n",
       "       'Surgical Intensive Care Unit (SICU)',\n",
       "       'Medical/Surgical Intensive Care Unit (MICU/SICU)',\n",
       "       'Cardiac Vascular Intensive Care Unit (CVICU)',\n",
       "       'Coronary Care Unit (CCU)', 'Neuro Intermediate',\n",
       "       'Trauma SICU (TSICU)', 'Neuro Stepdown',\n",
       "       'Neuro Surgical Intensive Care Unit (Neuro SICU)'], dtype=object)"
      ]
     },
     "execution_count": 143,
     "metadata": {},
     "output_type": "execute_result"
    }
   ],
   "source": [
    "icustays['first_careunit'].unique()"
   ]
  },
  {
   "cell_type": "markdown",
   "id": "7e4af7fa",
   "metadata": {},
   "source": [
    "*** Explore whether many of these stays have similar distribution in length of stay before creating categories. Tables must be merged before doing so - complete later ***"
   ]
  },
  {
   "cell_type": "markdown",
   "id": "3ed75304",
   "metadata": {},
   "source": [
    "#Converting different categories of first care unit into ICU and NICU groups\n",
    "icustays['first_careunit'].replace({'Coronary Care Unit (CCU)': 'ICU',\n",
    "                                  'Neuro Stepdown': 'NICU',\n",
    "                                  'Neuro Intermediate': 'NICU',\n",
    "                                  'Cardiac Vascular Intensive Care Unit (CVICU)': \"ICU\",\n",
    "                                  'Neuro Surgical Intensive Care Unit (Neuro SICU)': 'ICU',\n",
    "                                  'Medical/Surgical Intensive Care Unit (MICU/SICU)': 'ICU',\n",
    "                                  'Medical Intensive Care Unit (MICU)': 'ICU',\n",
    "                                  'Surgical Intensive Care Unit (SICU)': 'ICU',\n",
    "                                  'Trauma SICU (TSICU)': 'ICU'}, inplace=True)"
   ]
  },
  {
   "cell_type": "markdown",
   "id": "2edb9f38",
   "metadata": {},
   "source": [
    "icustays['cat'] = icustays['first_careunit']\n",
    "icu_list = icustays.groupby('hadm_id')['cat'].apply(list).reset_index()\n",
    "\n",
    "icustays['first_careunit'].value_counts()"
   ]
  },
  {
   "cell_type": "markdown",
   "id": "df8e2fc9",
   "metadata": {},
   "source": [
    "#### Diagnosis ICD table\n",
    "Billed ICD-9/ICD-10 diagnoses for hospitalizations.\n",
    "diagnoses_icd\n",
    "\n",
    "During routine hospital care, patients are billed by the hospital for diagnoses associated with their hospital stay. This table contains a record of all diagnoses a patient was billed for during their hospital stay using the ICD-9 and ICD-10 ontologies. Diagnoses are billed on hospital discharge, and are determined by trained persons who read signed clinical notes."
   ]
  },
  {
   "cell_type": "code",
   "execution_count": 146,
   "id": "c4403ed9",
   "metadata": {},
   "outputs": [],
   "source": [
    "# Diagnosis for each admission to the hospi\n",
    "diagnoses_icd = pd.read_csv('mimiciv/2.0/hosp/diagnoses_icd.csv.gz')"
   ]
  },
  {
   "cell_type": "code",
   "execution_count": 147,
   "id": "9e41996d",
   "metadata": {
    "scrolled": true
   },
   "outputs": [
    {
     "data": {
      "text/html": [
       "<div>\n",
       "<style scoped>\n",
       "    .dataframe tbody tr th:only-of-type {\n",
       "        vertical-align: middle;\n",
       "    }\n",
       "\n",
       "    .dataframe tbody tr th {\n",
       "        vertical-align: top;\n",
       "    }\n",
       "\n",
       "    .dataframe thead th {\n",
       "        text-align: right;\n",
       "    }\n",
       "</style>\n",
       "<table border=\"1\" class=\"dataframe\">\n",
       "  <thead>\n",
       "    <tr style=\"text-align: right;\">\n",
       "      <th></th>\n",
       "      <th>subject_id</th>\n",
       "      <th>hadm_id</th>\n",
       "      <th>seq_num</th>\n",
       "      <th>icd_code</th>\n",
       "      <th>icd_version</th>\n",
       "    </tr>\n",
       "  </thead>\n",
       "  <tbody>\n",
       "    <tr>\n",
       "      <th>0</th>\n",
       "      <td>10000032</td>\n",
       "      <td>22595853</td>\n",
       "      <td>1</td>\n",
       "      <td>5723</td>\n",
       "      <td>9</td>\n",
       "    </tr>\n",
       "    <tr>\n",
       "      <th>1</th>\n",
       "      <td>10000032</td>\n",
       "      <td>22595853</td>\n",
       "      <td>2</td>\n",
       "      <td>78959</td>\n",
       "      <td>9</td>\n",
       "    </tr>\n",
       "    <tr>\n",
       "      <th>2</th>\n",
       "      <td>10000032</td>\n",
       "      <td>22595853</td>\n",
       "      <td>3</td>\n",
       "      <td>5715</td>\n",
       "      <td>9</td>\n",
       "    </tr>\n",
       "    <tr>\n",
       "      <th>3</th>\n",
       "      <td>10000032</td>\n",
       "      <td>22595853</td>\n",
       "      <td>4</td>\n",
       "      <td>07070</td>\n",
       "      <td>9</td>\n",
       "    </tr>\n",
       "    <tr>\n",
       "      <th>4</th>\n",
       "      <td>10000032</td>\n",
       "      <td>22595853</td>\n",
       "      <td>5</td>\n",
       "      <td>496</td>\n",
       "      <td>9</td>\n",
       "    </tr>\n",
       "  </tbody>\n",
       "</table>\n",
       "</div>"
      ],
      "text/plain": [
       "   subject_id   hadm_id  seq_num icd_code  icd_version\n",
       "0    10000032  22595853        1     5723            9\n",
       "1    10000032  22595853        2    78959            9\n",
       "2    10000032  22595853        3     5715            9\n",
       "3    10000032  22595853        4    07070            9\n",
       "4    10000032  22595853        5      496            9"
      ]
     },
     "execution_count": 147,
     "metadata": {},
     "output_type": "execute_result"
    }
   ],
   "source": [
    "diagnoses_icd.head()"
   ]
  },
  {
   "cell_type": "code",
   "execution_count": 148,
   "id": "a02b623d",
   "metadata": {},
   "outputs": [
    {
     "name": "stdout",
     "output_type": "stream",
     "text": [
      "Dataset has 430852 number of unique admission events.\n",
      "Dataset has 180640 number of unique patients.\n"
     ]
    }
   ],
   "source": [
    "# Unique admission events\n",
    "print('Dataset has {} number of unique admission events.'.format(diagnoses_icd['hadm_id'].nunique()))\n",
    "\n",
    "# Unique patients\n",
    "print('Dataset has {} number of unique patients.'.format(diagnoses_icd['subject_id'].nunique()))"
   ]
  },
  {
   "cell_type": "code",
   "execution_count": 149,
   "id": "c5ca8504",
   "metadata": {},
   "outputs": [
    {
     "data": {
      "text/plain": [
       "True"
      ]
     },
     "execution_count": 149,
     "metadata": {},
     "output_type": "execute_result"
    }
   ],
   "source": [
    "diagnoses_icd['hadm_id'].duplicated().any()"
   ]
  },
  {
   "cell_type": "code",
   "execution_count": 150,
   "id": "e559af30",
   "metadata": {},
   "outputs": [
    {
     "data": {
      "text/plain": [
       "True"
      ]
     },
     "execution_count": 150,
     "metadata": {},
     "output_type": "execute_result"
    }
   ],
   "source": [
    "diagnoses_icd['subject_id'].duplicated().any()"
   ]
  },
  {
   "cell_type": "markdown",
   "id": "854b2fdb",
   "metadata": {},
   "source": [
    "There will be, at times, multiple diagnoses for one patient. "
   ]
  },
  {
   "cell_type": "markdown",
   "id": "c46355d3",
   "metadata": {},
   "source": [
    "##### Number of missing values by column"
   ]
  },
  {
   "cell_type": "code",
   "execution_count": 151,
   "id": "60b99805",
   "metadata": {},
   "outputs": [
    {
     "data": {
      "text/html": [
       "<div>\n",
       "<style scoped>\n",
       "    .dataframe tbody tr th:only-of-type {\n",
       "        vertical-align: middle;\n",
       "    }\n",
       "\n",
       "    .dataframe tbody tr th {\n",
       "        vertical-align: top;\n",
       "    }\n",
       "\n",
       "    .dataframe thead th {\n",
       "        text-align: right;\n",
       "    }\n",
       "</style>\n",
       "<table border=\"1\" class=\"dataframe\">\n",
       "  <thead>\n",
       "    <tr style=\"text-align: right;\">\n",
       "      <th></th>\n",
       "      <th>count</th>\n",
       "      <th>%</th>\n",
       "    </tr>\n",
       "  </thead>\n",
       "  <tbody>\n",
       "    <tr>\n",
       "      <th>subject_id</th>\n",
       "      <td>0</td>\n",
       "      <td>0.0</td>\n",
       "    </tr>\n",
       "    <tr>\n",
       "      <th>hadm_id</th>\n",
       "      <td>0</td>\n",
       "      <td>0.0</td>\n",
       "    </tr>\n",
       "    <tr>\n",
       "      <th>seq_num</th>\n",
       "      <td>0</td>\n",
       "      <td>0.0</td>\n",
       "    </tr>\n",
       "    <tr>\n",
       "      <th>icd_code</th>\n",
       "      <td>0</td>\n",
       "      <td>0.0</td>\n",
       "    </tr>\n",
       "    <tr>\n",
       "      <th>icd_version</th>\n",
       "      <td>0</td>\n",
       "      <td>0.0</td>\n",
       "    </tr>\n",
       "  </tbody>\n",
       "</table>\n",
       "</div>"
      ],
      "text/plain": [
       "             count    %\n",
       "subject_id       0  0.0\n",
       "hadm_id          0  0.0\n",
       "seq_num          0  0.0\n",
       "icd_code         0  0.0\n",
       "icd_version      0  0.0"
      ]
     },
     "execution_count": 151,
     "metadata": {},
     "output_type": "execute_result"
    }
   ],
   "source": [
    "missing = pd.concat([diagnoses_icd.isnull().sum(), 100 * diagnoses_icd.isnull().mean()], axis=1)\n",
    "missing.columns=['count', '%']\n",
    "missing.sort_values(by='count', ascending=False)"
   ]
  },
  {
   "cell_type": "markdown",
   "id": "dcbbcc7e",
   "metadata": {},
   "source": [
    "There are no missing values."
   ]
  },
  {
   "cell_type": "code",
   "execution_count": 152,
   "id": "f4814484",
   "metadata": {},
   "outputs": [
    {
     "name": "stdout",
     "output_type": "stream",
     "text": [
      "<class 'pandas.core.frame.DataFrame'>\n",
      "RangeIndex: 4756326 entries, 0 to 4756325\n",
      "Data columns (total 5 columns):\n",
      " #   Column       Dtype \n",
      "---  ------       ----- \n",
      " 0   subject_id   int64 \n",
      " 1   hadm_id      int64 \n",
      " 2   seq_num      int64 \n",
      " 3   icd_code     object\n",
      " 4   icd_version  int64 \n",
      "dtypes: int64(4), object(1)\n",
      "memory usage: 181.4+ MB\n"
     ]
    }
   ],
   "source": [
    "diagnoses_icd.info()"
   ]
  },
  {
   "cell_type": "markdown",
   "id": "0aebdb66",
   "metadata": {},
   "source": [
    "This table should be recoded on a categorical basis to help in predicting lenght of stay. This will be done later."
   ]
  },
  {
   "cell_type": "code",
   "execution_count": null,
   "id": "b47408ac",
   "metadata": {},
   "outputs": [],
   "source": []
  },
  {
   "cell_type": "code",
   "execution_count": null,
   "id": "a6a0fa65",
   "metadata": {},
   "outputs": [],
   "source": []
  }
 ],
 "metadata": {
  "kernelspec": {
   "display_name": "Python 3 (ipykernel)",
   "language": "python",
   "name": "python3"
  },
  "language_info": {
   "codemirror_mode": {
    "name": "ipython",
    "version": 3
   },
   "file_extension": ".py",
   "mimetype": "text/x-python",
   "name": "python",
   "nbconvert_exporter": "python",
   "pygments_lexer": "ipython3",
   "version": "3.9.13"
  }
 },
 "nbformat": 4,
 "nbformat_minor": 5
}
